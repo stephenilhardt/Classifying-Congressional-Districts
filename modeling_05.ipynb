{
 "cells": [
  {
   "cell_type": "code",
   "execution_count": 1,
   "metadata": {},
   "outputs": [],
   "source": [
    "import numpy as np\n",
    "import pandas as pd\n",
    "\n",
    "import pickle\n",
    "\n",
    "from sklearn import naive_bayes\n",
    "from sklearn.preprocessing import StandardScaler\n",
    "from sklearn.model_selection import train_test_split, cross_val_score, StratifiedKFold, GridSearchCV\n",
    "from sklearn.metrics import roc_auc_score, confusion_matrix\n",
    "from sklearn.tree import DecisionTreeClassifier\n",
    "from sklearn.linear_model import LogisticRegression\n",
    "from sklearn.ensemble import RandomForestClassifier, VotingClassifier\n",
    "from sklearn.svm import LinearSVC, SVC\n",
    "from sklearn.neighbors import KNeighborsClassifier\n",
    "\n",
    "from mlxtend.classifier import StackingClassifier"
   ]
  },
  {
   "cell_type": "code",
   "execution_count": 2,
   "metadata": {},
   "outputs": [],
   "source": [
    "sf1_numbers = pd.read_csv('sf1_numbers_07.csv')\n",
    "sf1_percentages = pd.read_csv('sf1_percentages_07.csv')\n",
    "\n",
    "acs1_numbers = pd.read_csv('acs1_numbers_07.csv')\n",
    "acs1_percentages = pd.read_csv('acs1_percentages_07.csv')\n",
    "\n",
    "social_numbers = pd.read_csv('social_numbers_07.csv')\n",
    "social_percentages = pd.read_csv('social_percentages_07.csv')\n",
    "\n",
    "economic_numbers = pd.read_csv('economic_numbers_07.csv')\n",
    "economic_percentages = pd.read_csv('economic_percentages_07.csv')\n",
    "\n",
    "housing_numbers = pd.read_csv('housing_numbers_07.csv')\n",
    "housing_percentages = pd.read_csv('housing_percentages_07.csv')"
   ]
  },
  {
   "cell_type": "code",
   "execution_count": 3,
   "metadata": {},
   "outputs": [],
   "source": [
    "predictions = pd.read_csv('predictions.csv')"
   ]
  },
  {
   "cell_type": "code",
   "execution_count": 4,
   "metadata": {},
   "outputs": [],
   "source": [
    "full_dfs = [sf1_numbers, sf1_percentages, acs1_numbers, acs1_percentages,\n",
    "           social_numbers, social_percentages, economic_numbers,\n",
    "           economic_percentages, housing_numbers, housing_percentages]\n",
    "\n",
    "dfs = [sf1_numbers, acs1_numbers,social_numbers,economic_numbers,housing_numbers]\n",
    "\n",
    "dfs_numbers = ['sf1_numbers', 'acs1_numbers', 'social_numbers', 'economic_numbers',\n",
    "              'housing_numbers']\n",
    "\n",
    "names = ['sf1_numbers', 'sf1_percentages', 'acs1_numbers',\n",
    "         'acs1_percentages','social_numbers','social_percentages',\n",
    "         'economic_numbers','economic_percentages','housing_numbers',\n",
    "         'housing_percentages']"
   ]
  },
  {
   "cell_type": "code",
   "execution_count": null,
   "metadata": {},
   "outputs": [],
   "source": [
    "for df in full_dfs:\n",
    "    df.drop(['Unnamed: 0'], axis=1, inplace=True)\n",
    "    \n",
    "predictions.drop(['Unnamed: 0'], axis=1, inplace=True)"
   ]
  },
  {
   "cell_type": "code",
   "execution_count": null,
   "metadata": {},
   "outputs": [],
   "source": [
    "for index, df in enumerate(full_dfs):\n",
    "    df.name = names[index]"
   ]
  },
  {
   "cell_type": "code",
   "execution_count": null,
   "metadata": {},
   "outputs": [],
   "source": [
    "y = predictions.loc[:,'Democrat']\n",
    "\n",
    "scale_sf1 = StandardScaler()\n",
    "scale_acs1 = StandardScaler()\n",
    "scale_social = StandardScaler()\n",
    "scale_economic = StandardScaler()\n",
    "scale_housing = StandardScaler()\n",
    "\n",
    "scalers = {'sf1_numbers': scale_sf1, 'acs1_numbers': scale_acs1, 'social_numbers': scale_social,\n",
    "          'economic_numbers': scale_economic, 'housing_numbers': scale_housing}\n",
    "\n",
    "kf = StratifiedKFold(n_splits=5,shuffle=True,random_state=42)\n",
    "\n",
    "models = {}"
   ]
  },
  {
   "cell_type": "code",
   "execution_count": null,
   "metadata": {},
   "outputs": [],
   "source": [
    "nbg = naive_bayes.GaussianNB()\n",
    "nbb = naive_bayes.BernoulliNB()\n",
    "nbm = naive_bayes.MultinomialNB()"
   ]
  },
  {
   "cell_type": "code",
   "execution_count": null,
   "metadata": {},
   "outputs": [
    {
     "name": "stdout",
     "output_type": "stream",
     "text": [
      "sf1_numbers \n",
      "\n",
      "Gaussian Naive Bayes\n",
      "Cross Val Score: 0.8883482321019077\n",
      "AUC Score: 0.788562091503268 \n",
      "\n",
      "Bernoulli Naive Bayes\n",
      "Cross Val Score: 0.5\n",
      "AUC Score: 0.5 \n",
      "\n",
      "Multinomial Naive Bayes\n",
      "Cross Val Score: 0.737861970681106\n",
      "AUC Score: 0.7594771241830065 \n",
      "\n",
      "acs1_numbers \n",
      "\n",
      "Gaussian Naive Bayes\n",
      "Cross Val Score: 0.9146520232277998\n",
      "AUC Score: 0.7895424836601308 \n",
      "\n",
      "Bernoulli Naive Bayes\n",
      "Cross Val Score: 0.5384004570321724\n",
      "AUC Score: 0.5704248366013072 \n",
      "\n",
      "Multinomial Naive Bayes\n",
      "Cross Val Score: 0.8142354868273083\n",
      "AUC Score: 0.8001633986928105 \n",
      "\n",
      "social_numbers \n",
      "\n",
      "Gaussian Naive Bayes\n",
      "Cross Val Score: 0.897576562493747\n",
      "AUC Score: 0.7720588235294117 \n",
      "\n",
      "Bernoulli Naive Bayes\n",
      "Cross Val Score: 0.5\n",
      "AUC Score: 0.5 \n",
      "\n",
      "Multinomial Naive Bayes\n",
      "Cross Val Score: 0.8019401127772909\n",
      "AUC Score: 0.7839869281045752 \n",
      "\n",
      "economic_numbers \n",
      "\n",
      "Gaussian Naive Bayes\n",
      "Cross Val Score: 0.8944264574403797\n",
      "AUC Score: 0.7859477124183006 \n",
      "\n",
      "Bernoulli Naive Bayes\n",
      "Cross Val Score: 0.5184906916713691\n",
      "AUC Score: 0.5089869281045751 \n",
      "\n",
      "Multinomial Naive Bayes\n",
      "Cross Val Score: 0.7826303137994101\n",
      "AUC Score: 0.8104575163398693 \n",
      "\n",
      "housing_numbers \n",
      "\n",
      "Gaussian Naive Bayes\n",
      "Cross Val Score: 0.885765747399679\n",
      "AUC Score: 0.7893790849673203 \n",
      "\n",
      "Bernoulli Naive Bayes\n",
      "Cross Val Score: 0.5231782721622584\n",
      "AUC Score: 0.5643790849673204 \n",
      "\n",
      "Multinomial Naive Bayes\n",
      "Cross Val Score: 0.7857274447419289\n",
      "AUC Score: 0.7915032679738562 \n",
      "\n"
     ]
    }
   ],
   "source": [
    "for df in dfs:\n",
    "    X = df.loc[:]\n",
    "    \n",
    "    X_train, X_test, y_train, y_test = train_test_split(X,y,test_size=0.2,random_state = 42)\n",
    "    \n",
    "    print(df.name,'\\n')\n",
    "    \n",
    "    model1 = nbg.fit(X_train, y_train)\n",
    "    \n",
    "    print('Gaussian Naive Bayes')\n",
    "    print(\"Cross Val Score:\", np.mean(cross_val_score(model1,X_train,y_train,scoring='roc_auc',cv=kf)))\n",
    "    print(\"AUC Score:\", roc_auc_score(y_test, model1.predict(X_test)),'\\n')\n",
    "    \n",
    "    #if roc_auc_score(y_test, model1.predict(X_test)) >= 0.75:\n",
    "        #models[(\"{}\".format(df.name), \"Gaussian Naive Bayes\")] = model1\n",
    "    \n",
    "    model2 = nbb.fit(X_train, y_train)\n",
    "    \n",
    "    print('Bernoulli Naive Bayes')\n",
    "    print(\"Cross Val Score:\", np.mean(cross_val_score(model2,X_train,y_train,scoring='roc_auc',cv=kf)))\n",
    "    print(\"AUC Score:\", roc_auc_score(y_test, model2.predict(X_test)),'\\n')\n",
    "    \n",
    "    \n",
    "    #if roc_auc_score(y_test, model1.predict(X_test)) >= 0.75:\n",
    "        #models[(\"{}\".format(df.name), \"Bernoulli Naive Bayes\")] = model2\n",
    "    \n",
    "    model3 = nbm.fit(X_train, y_train)\n",
    "    \n",
    "    print('Multinomial Naive Bayes')\n",
    "    print(\"Cross Val Score:\", np.mean(cross_val_score(model3,X_train,y_train,scoring='roc_auc',cv=kf)))\n",
    "    print(\"AUC Score:\", roc_auc_score(y_test, model3.predict(X_test)),'\\n')\n",
    "    \n",
    "    #if roc_auc_score(y_test, model1.predict(X_test)) >= 0.75:\n",
    "        #models[(\"{}\".format(df.name), \"Multinomial Naive Bayes\")] = model3"
   ]
  },
  {
   "cell_type": "code",
   "execution_count": null,
   "metadata": {},
   "outputs": [],
   "source": [
    "rf = RandomForestClassifier(n_estimators=10)\n",
    "\n",
    "params = {'max_depth': range(1,21)}\n",
    "\n",
    "grid = GridSearchCV(rf, params, scoring='roc_auc', cv=kf)"
   ]
  },
  {
   "cell_type": "code",
   "execution_count": null,
   "metadata": {},
   "outputs": [
    {
     "name": "stdout",
     "output_type": "stream",
     "text": [
      "sf1_numbers Cross Val Score: 0.9653831778543498\n",
      "sf1_numbers AUC Score: 0.9161764705882353\n",
      "sf1_numbers Best Depth: {'max_depth': 9} \n",
      "\n"
     ]
    }
   ],
   "source": [
    "for df in dfs:\n",
    "    X = df.loc[:]\n",
    "    \n",
    "    X_train, X_test, y_train, y_test = train_test_split(X,y,test_size=0.2,random_state = 42)\n",
    "    \n",
    "    model = grid.fit(X_train, y_train)\n",
    "    \n",
    "    print(df.name, \"Cross Val Score:\", np.mean(cross_val_score(model, X_train, y_train, scoring='roc_auc',cv=kf)))\n",
    "    print(df.name, \"AUC Score:\", roc_auc_score(y_test, model.predict(X_test)))\n",
    "    print(df.name, \"Best Depth:\", model.best_params_, '\\n')\n",
    "    \n",
    "    #if roc_auc_score(y_test, model.predict(X_test)) >= 0.75:\n",
    "    models[(\"{}\".format(df.name), \"Random Forest\")] = model.best_estimator_"
   ]
  },
  {
   "cell_type": "code",
   "execution_count": null,
   "metadata": {},
   "outputs": [],
   "source": [
    "dt = DecisionTreeClassifier()\n",
    "\n",
    "params = {'max_depth': range(1,21)}\n",
    "\n",
    "grid = GridSearchCV(dt, params, scoring='roc_auc', cv=kf)"
   ]
  },
  {
   "cell_type": "code",
   "execution_count": null,
   "metadata": {},
   "outputs": [],
   "source": [
    "for df in dfs:\n",
    "    X = df.loc[:]\n",
    "    \n",
    "    X_train, X_test, y_train, y_test = train_test_split(X,y,test_size=0.2,random_state = 42)\n",
    "    \n",
    "    model = grid.fit(X_train, y_train)\n",
    "    \n",
    "    print(df.name, \"Cross Val Score:\", np.mean(cross_val_score(model, X_train, y_train, scoring='roc_auc',cv=kf)))\n",
    "    print(df.name, \"AUC Score:\", roc_auc_score(y_test, model.predict(X_test)))\n",
    "    print(df.name, \"Best Depth:\", model.best_params_, '\\n')\n",
    "    \n",
    "    #if roc_auc_score(y_test, model.predict(X_test)) >= 0.75:\n",
    "    models[(\"{}\".format(df.name), \"Decision Tree\")] = model.best_estimator_"
   ]
  },
  {
   "cell_type": "code",
   "execution_count": null,
   "metadata": {},
   "outputs": [],
   "source": [
    "lvm = LinearSVC()\n",
    "\n",
    "params = {'C': [0.001, 0.01, 0.1, 1, 10, 100, 1000, 10000]}\n",
    "\n",
    "grid = GridSearchCV(lvm, params, scoring='roc_auc', cv=kf)"
   ]
  },
  {
   "cell_type": "code",
   "execution_count": null,
   "metadata": {},
   "outputs": [],
   "source": [
    "for df in dfs:\n",
    "    X = df.loc[:]\n",
    "    \n",
    "    X_train, X_test, y_train, y_test = train_test_split(X,y,test_size=0.2,random_state = 42)\n",
    "    \n",
    "    if df.name in dfs_numbers:\n",
    "        X_train = scalers[df.name].fit_transform(X_train)\n",
    "        X_test = scalers[df.name].transform(X_test)\n",
    "    \n",
    "    model = grid.fit(X_train, y_train)\n",
    "    \n",
    "    print(df.name, \"Cross Val Score:\", np.mean(cross_val_score(model, X_train, y_train, scoring='roc_auc',cv=kf)))\n",
    "    print(df.name, \"AUC Score:\", roc_auc_score(y_test, model.predict(X_test)))\n",
    "    print(df.name, \"Best C:\", model.best_params_, '\\n')\n",
    "    \n",
    "    #if roc_auc_score(y_test, model.predict(X_test)) >= 0.75:\n",
    "    models[(\"{}\".format(df.name), \"Linear SVM\")] = model.best_estimator_"
   ]
  },
  {
   "cell_type": "code",
   "execution_count": null,
   "metadata": {},
   "outputs": [],
   "source": [
    "svm = SVC(kernel = 'rbf', gamma = 'scale')\n",
    "\n",
    "params = {'C': [0.001, 0.01, 0.1, 1, 10, 100, 1000, 10000]}\n",
    "\n",
    "grid = GridSearchCV(svm, params, scoring='roc_auc', cv=kf)"
   ]
  },
  {
   "cell_type": "code",
   "execution_count": null,
   "metadata": {},
   "outputs": [],
   "source": [
    "for df in dfs:\n",
    "    X = df.loc[:]\n",
    "    \n",
    "    X_train, X_test, y_train, y_test = train_test_split(X,y,test_size=0.2,random_state = 42)\n",
    "    \n",
    "    if df.name in dfs_numbers:\n",
    "        X_train = scalers[df.name].fit_transform(X_train)\n",
    "        X_test = scalers[df.name].transform(X_test)\n",
    "    \n",
    "    model = grid.fit(X_train, y_train)\n",
    "    \n",
    "    print(df.name, \"Cross Val Score:\", np.mean(cross_val_score(model, X_train, y_train, scoring='roc_auc',cv=kf)))\n",
    "    print(df.name, \"AUC Score:\", roc_auc_score(y_test, model.predict(X_test)))\n",
    "    print(df.name, \"Best C:\", model.best_params_, '\\n')\n",
    "    \n",
    "    #if roc_auc_score(y_test, model.predict(X_test)) >= 0.75:\n",
    "    models[(\"{}\".format(df.name), \"RBF SVM\")] = model.best_estimator_"
   ]
  },
  {
   "cell_type": "code",
   "execution_count": null,
   "metadata": {},
   "outputs": [],
   "source": [
    "lr = LogisticRegression(solver='liblinear')\n",
    "\n",
    "params = {'C': [0.001, 0.01, 0.1, 1, 10, 100, 1000, 10000], 'penalty': ['l1','l2']}\n",
    "\n",
    "grid = GridSearchCV(lr, params, scoring='roc_auc', cv=kf)"
   ]
  },
  {
   "cell_type": "code",
   "execution_count": null,
   "metadata": {},
   "outputs": [],
   "source": [
    "for df in dfs:\n",
    "    X = df.loc[:]\n",
    "    \n",
    "    X_train, X_test, y_train, y_test = train_test_split(X,y,test_size=0.2,random_state = 42)\n",
    "    \n",
    "    if df.name in dfs_numbers:\n",
    "        X_train = scalers[df.name].fit_transform(X_train)\n",
    "        X_test = scalers[df.name].transform(X_test)\n",
    "    \n",
    "    model = grid.fit(X_train, y_train)\n",
    "    \n",
    "    print(df.name, \"Cross Val Score:\", np.mean(cross_val_score(model, X_train, y_train, scoring='roc_auc',cv=kf)))\n",
    "    print(df.name, \"AUC Score:\", roc_auc_score(y_test, model.predict(X_test)))\n",
    "    print(df.name, \"Best C And Penalty:\", model.best_params_, '\\n')\n",
    "    \n",
    "    #if roc_auc_score(y_test, model.predict(X_test)) >= 0.75:\n",
    "    models[(\"{}\".format(df.name), \"Logistic Regression\")] = model.best_estimator_"
   ]
  },
  {
   "cell_type": "code",
   "execution_count": null,
   "metadata": {},
   "outputs": [],
   "source": [
    "knn = KNeighborsClassifier()\n",
    "\n",
    "params = {'n_neighbors': range(1,11)}\n",
    "\n",
    "grid = GridSearchCV(knn, params, scoring='roc_auc', cv=kf)"
   ]
  },
  {
   "cell_type": "code",
   "execution_count": null,
   "metadata": {},
   "outputs": [],
   "source": [
    "for df in dfs:\n",
    "    X = df.loc[:]\n",
    "    \n",
    "    X_train, X_test, y_train, y_test = train_test_split(X,y,test_size=0.2,random_state = 42)\n",
    "    \n",
    "    if df.name in dfs_numbers:\n",
    "        X_train = scalers[df.name].fit_transform(X_train)\n",
    "        X_test = scalers[df.name].transform(X_test)\n",
    "    \n",
    "    model = grid.fit(X_train, y_train)\n",
    "    \n",
    "    print(df.name, \"Cross Val Score:\", np.mean(cross_val_score(model, X_train, y_train, scoring='roc_auc',cv=kf)))\n",
    "    print(df.name, \"AUC Score:\", roc_auc_score(y_test, model.predict(X_test)))\n",
    "    print(df.name, \"Best K:\", model.best_params_, '\\n')\n",
    "    \n",
    "    #if roc_auc_score(y_test, model.predict(X_test)) >= 0.75:\n",
    "    models[(\"{}\".format(df.name), \"K Nearest Neighbor\")] = model.best_estimator_"
   ]
  },
  {
   "cell_type": "code",
   "execution_count": null,
   "metadata": {},
   "outputs": [],
   "source": [
    "predictions_sf1 = pd.DataFrame()\n",
    "predictions_acs1 = pd.DataFrame()\n",
    "predictions_social = pd.DataFrame()\n",
    "predictions_economic = pd.DataFrame()\n",
    "predictions_housing = pd.DataFrame()\n",
    "\n",
    "prediction_dfs = [predictions_sf1, predictions_acs1, predictions_social, predictions_economic, predictions_housing]\n",
    "\n",
    "for df in prediction_dfs:\n",
    "    df['target'] = predictions['Democrat']"
   ]
  },
  {
   "cell_type": "code",
   "execution_count": null,
   "metadata": {},
   "outputs": [],
   "source": [
    "models"
   ]
  },
  {
   "cell_type": "code",
   "execution_count": null,
   "metadata": {},
   "outputs": [],
   "source": [
    "with open('models07.pickle', 'wb') as to_write:\n",
    "    pickle.dump(models, to_write)"
   ]
  },
  {
   "cell_type": "code",
   "execution_count": null,
   "metadata": {},
   "outputs": [],
   "source": [
    "for key, model in models.items():\n",
    "    \n",
    "    if key[0] == 'sf1_numbers':\n",
    "        if key[1] in ['Linear SVM','RBF SVM','Logistic Regression','K Nearest Neighbor']:\n",
    "            scaled = scalers['sf1_numbers'].fit_transform(sf1_numbers)\n",
    "            predictions_sf1[key[1]] = model.predict(scaled)\n",
    "        else:\n",
    "            predictions_sf1[key[1]] = model.predict(sf1_numbers)\n",
    "            \n",
    "    elif key[0] == 'acs1_numbers':\n",
    "        if key[1] in ['Linear SVM','RBF SVM','Logistic Regression','K Nearest Neighbor']:\n",
    "            scaled = scalers['acs1_numbers'].fit_transform(acs1_numbers)\n",
    "            predictions_acs1[key[1]] = model.predict(scaled)\n",
    "        else:\n",
    "            predictions_acs1[key[1]] = model.predict(acs1_numbers)\n",
    "            \n",
    "    elif key[0] == 'social_numbers':\n",
    "        if key[1] in ['Linear SVM','RBF SVM','Logistic Regression','K Nearest Neighbor']:\n",
    "            scaled = scalers['social_numbers'].fit_transform(social_numbers)\n",
    "            predictions_social[key[1]] = model.predict(scaled)\n",
    "        else:\n",
    "            predictions_social[key[1]] = model.predict(social_numbers)\n",
    "            \n",
    "    elif key[0] == 'economic_numbers':\n",
    "        if key[1] in ['Linear SVM','RBF SVM','Logistic Regression','K Nearest Neighbor']:\n",
    "            scaled = scalers['economic_numbers'].fit_transform(economic_numbers)\n",
    "            predictions_economic[key[1]] = model.predict(scaled)\n",
    "        else:\n",
    "            predictions_economic[key[1]] = model.predict(economic_numbers)\n",
    "            \n",
    "    elif key[0] == 'housing_numbers':\n",
    "        if key[1] in ['Linear SVM','RBF SVM','Logistic Regression','K Nearest Neighbor']:\n",
    "            scaled = scalers['housing_numbers'].fit_transform(housing_numbers)\n",
    "            predictions_housing[key[1]] = model.predict(scaled)\n",
    "        else:\n",
    "            predictions_housing[key[1]] = model.predict(housing_numbers)\n",
    "        "
   ]
  },
  {
   "cell_type": "code",
   "execution_count": null,
   "metadata": {},
   "outputs": [],
   "source": [
    "predictions_sf1"
   ]
  },
  {
   "cell_type": "code",
   "execution_count": null,
   "metadata": {},
   "outputs": [],
   "source": [
    "predictions_acs1.groupby(['target']).mean()"
   ]
  },
  {
   "cell_type": "code",
   "execution_count": null,
   "metadata": {},
   "outputs": [],
   "source": [
    "predictions_social.groupby(['target']).mean()"
   ]
  },
  {
   "cell_type": "code",
   "execution_count": null,
   "metadata": {},
   "outputs": [],
   "source": [
    "predictions_economic.groupby(['target']).mean()"
   ]
  },
  {
   "cell_type": "code",
   "execution_count": null,
   "metadata": {},
   "outputs": [],
   "source": [
    "predictions_housing.groupby(['target']).mean()"
   ]
  },
  {
   "cell_type": "code",
   "execution_count": null,
   "metadata": {},
   "outputs": [],
   "source": [
    "sf1_models = []\n",
    "acs1_models = []\n",
    "social_models = []\n",
    "economic_models = []\n",
    "housing_models = []"
   ]
  },
  {
   "cell_type": "code",
   "execution_count": null,
   "metadata": {},
   "outputs": [],
   "source": [
    "for key, model in models.items():\n",
    "    if key[0] == 'sf1_numbers': #and key[1] in ['Random Forest','RBF SVM','K Nearest Neighbor']:\n",
    "        sf1_models.append((key[1],model))\n",
    "    if key[0] == 'acs1_numbers': #and key[1] in ['Random Forest','RBF SVM','K Nearest Neighbor']:\n",
    "        acs1_models.append((key[1],model))\n",
    "    if key[0] == 'social_numbers': #and key[1] in ['Random Forest','RBF SVM','K Nearest Neighbor']:\n",
    "        social_models.append((key[1],model))\n",
    "    if key[0] == 'economic_numbers': #and key[1] in ['Random Forest','RBF SVM','K Nearest Neighbor']:\n",
    "        economic_models.append((key[1],model))\n",
    "    if key[0] == 'housing_numbers': #and key[1] in ['Random Forest','RBF SVM','K Nearest Neighbor']:\n",
    "        housing_models.append((key[1],model))"
   ]
  },
  {
   "cell_type": "code",
   "execution_count": null,
   "metadata": {},
   "outputs": [],
   "source": [
    "voting_sf1 = VotingClassifier(estimators=sf1_models, voting='hard',n_jobs=-1)\n",
    "voting_acs1 = VotingClassifier(estimators=acs1_models, voting='hard',n_jobs=-1)\n",
    "voting_social = VotingClassifier(estimators=social_models, voting='hard',n_jobs=-1)\n",
    "voting_economic = VotingClassifier(estimators=economic_models, voting='hard',n_jobs=-1)\n",
    "voting_housing = VotingClassifier(estimators=housing_models, voting='hard',n_jobs=-1)"
   ]
  },
  {
   "cell_type": "code",
   "execution_count": null,
   "metadata": {},
   "outputs": [],
   "source": [
    "y = predictions['Democrat']\n",
    "X = sf1_numbers\n",
    "\n",
    "X_train, X_test, y_train, y_test = train_test_split(X,y,test_size=0.2,random_state = 42)\n",
    "\n",
    "voting_sf1.fit(X_train, y_train)\n",
    "roc_auc_score(y_test, voting_sf1.predict(X_test))"
   ]
  },
  {
   "cell_type": "code",
   "execution_count": null,
   "metadata": {},
   "outputs": [],
   "source": [
    "y = predictions['Democrat']\n",
    "X = acs1_numbers\n",
    "\n",
    "X_train, X_test, y_train, y_test = train_test_split(X,y,test_size=0.2,random_state = 42)\n",
    "\n",
    "voting_acs1.fit(X_train, y_train)\n",
    "roc_auc_score(y_test, voting_acs1.predict(X_test))"
   ]
  },
  {
   "cell_type": "code",
   "execution_count": null,
   "metadata": {},
   "outputs": [],
   "source": [
    "y = predictions['Democrat']\n",
    "X = social_numbers\n",
    "\n",
    "X_train, X_test, y_train, y_test = train_test_split(X,y,test_size=0.2,random_state = 42)\n",
    "\n",
    "voting_social.fit(X_train, y_train)\n",
    "roc_auc_score(y_test, voting_social.predict(X_test))"
   ]
  },
  {
   "cell_type": "code",
   "execution_count": null,
   "metadata": {},
   "outputs": [],
   "source": [
    "y = predictions['Democrat']\n",
    "X = economic_numbers\n",
    "\n",
    "X_train, X_test, y_train, y_test = train_test_split(X,y,test_size=0.2,random_state = 42)\n",
    "\n",
    "voting_economic.fit(X_train, y_train)\n",
    "roc_auc_score(y_test, voting_economic.predict(X_test))"
   ]
  },
  {
   "cell_type": "code",
   "execution_count": null,
   "metadata": {},
   "outputs": [],
   "source": [
    "y = predictions['Democrat']\n",
    "X = economic_numbers\n",
    "\n",
    "X_train, X_test, y_train, y_test = train_test_split(X,y,test_size=0.2,random_state = 42)\n",
    "\n",
    "voting_housing.fit(X_train, y_train)\n",
    "roc_auc_score(y_test, voting_housing.predict(X_test))"
   ]
  },
  {
   "cell_type": "code",
   "execution_count": null,
   "metadata": {},
   "outputs": [],
   "source": [
    "voters = [('voting_sf1', voting_sf1), ('voting_acs1', voting_acs1)]\n",
    "\n",
    "voting = VotingClassifier(estimators = voters, voting='hard', n_jobs=-1)\n",
    "\n"
   ]
  },
  {
   "cell_type": "code",
   "execution_count": null,
   "metadata": {},
   "outputs": [],
   "source": []
  }
 ],
 "metadata": {
  "kernelspec": {
   "display_name": "Python 3",
   "language": "python",
   "name": "python3"
  },
  "language_info": {
   "codemirror_mode": {
    "name": "ipython",
    "version": 3
   },
   "file_extension": ".py",
   "mimetype": "text/x-python",
   "name": "python",
   "nbconvert_exporter": "python",
   "pygments_lexer": "ipython3",
   "version": "3.7.1"
  }
 },
 "nbformat": 4,
 "nbformat_minor": 2
}
