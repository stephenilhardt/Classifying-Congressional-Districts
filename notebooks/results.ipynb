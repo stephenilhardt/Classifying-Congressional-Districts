{
 "cells": [
  {
   "cell_type": "code",
   "execution_count": 130,
   "metadata": {},
   "outputs": [],
   "source": [
    "import numpy as np\n",
    "import pandas as pd\n",
    "\n",
    "from us import states"
   ]
  },
  {
   "cell_type": "code",
   "execution_count": 83,
   "metadata": {},
   "outputs": [],
   "source": [
    "# Read in data files\n",
    "\n",
    "results_2012 = pd.read_csv('data/2012_results.csv')\n",
    "results_2014 = pd.read_csv('data/2014_results.csv')\n",
    "results_2016 = pd.read_csv('data/2016_results.csv')\n",
    "results_2018 = pd.read_csv('data/2018_results.csv')"
   ]
  },
  {
   "cell_type": "code",
   "execution_count": 84,
   "metadata": {},
   "outputs": [],
   "source": [
    "dfs = [results_2012,results_2014,results_2016,results_2018]"
   ]
  },
  {
   "cell_type": "code",
   "execution_count": 85,
   "metadata": {},
   "outputs": [
    {
     "data": {
      "text/html": [
       "<div>\n",
       "<style scoped>\n",
       "    .dataframe tbody tr th:only-of-type {\n",
       "        vertical-align: middle;\n",
       "    }\n",
       "\n",
       "    .dataframe tbody tr th {\n",
       "        vertical-align: top;\n",
       "    }\n",
       "\n",
       "    .dataframe thead th {\n",
       "        text-align: right;\n",
       "    }\n",
       "</style>\n",
       "<table border=\"1\" class=\"dataframe\">\n",
       "  <thead>\n",
       "    <tr style=\"text-align: right;\">\n",
       "      <th></th>\n",
       "      <th>Name</th>\n",
       "      <th>URL</th>\n",
       "      <th>State</th>\n",
       "      <th>District</th>\n",
       "      <th>Party</th>\n",
       "      <th>Terms</th>\n",
       "    </tr>\n",
       "  </thead>\n",
       "  <tbody>\n",
       "    <tr>\n",
       "      <th>0</th>\n",
       "      <td>Representative Adams, Alma S.</td>\n",
       "      <td>https://www.congress.gov/member/alma-adams/A00...</td>\n",
       "      <td>North Carolina</td>\n",
       "      <td>12.0</td>\n",
       "      <td>Democratic</td>\n",
       "      <td>House: 2014-Present</td>\n",
       "    </tr>\n",
       "    <tr>\n",
       "      <th>1</th>\n",
       "      <td>Representative Aderholt, Robert B.</td>\n",
       "      <td>https://www.congress.gov/member/robert-aderhol...</td>\n",
       "      <td>Alabama</td>\n",
       "      <td>4.0</td>\n",
       "      <td>Republican</td>\n",
       "      <td>House: 1997-Present</td>\n",
       "    </tr>\n",
       "    <tr>\n",
       "      <th>2</th>\n",
       "      <td>Representative Alexander, Rodney</td>\n",
       "      <td>https://www.congress.gov/member/rodney-alexand...</td>\n",
       "      <td>Louisiana</td>\n",
       "      <td>5.0</td>\n",
       "      <td>Republican</td>\n",
       "      <td>House: 2003-2013</td>\n",
       "    </tr>\n",
       "    <tr>\n",
       "      <th>3</th>\n",
       "      <td>Representative Amash, Justin</td>\n",
       "      <td>https://www.congress.gov/member/justin-amash/A...</td>\n",
       "      <td>Michigan</td>\n",
       "      <td>3.0</td>\n",
       "      <td>Republican</td>\n",
       "      <td>House: 2011-Present</td>\n",
       "    </tr>\n",
       "    <tr>\n",
       "      <th>4</th>\n",
       "      <td>Representative Amodei, Mark E.</td>\n",
       "      <td>https://www.congress.gov/member/mark-amodei/A0...</td>\n",
       "      <td>Nevada</td>\n",
       "      <td>2.0</td>\n",
       "      <td>Republican</td>\n",
       "      <td>House: 2011-Present</td>\n",
       "    </tr>\n",
       "  </tbody>\n",
       "</table>\n",
       "</div>"
      ],
      "text/plain": [
       "                                 Name  \\\n",
       "0       Representative Adams, Alma S.   \n",
       "1  Representative Aderholt, Robert B.   \n",
       "2    Representative Alexander, Rodney   \n",
       "3        Representative Amash, Justin   \n",
       "4      Representative Amodei, Mark E.   \n",
       "\n",
       "                                                 URL           State  \\\n",
       "0  https://www.congress.gov/member/alma-adams/A00...  North Carolina   \n",
       "1  https://www.congress.gov/member/robert-aderhol...         Alabama   \n",
       "2  https://www.congress.gov/member/rodney-alexand...       Louisiana   \n",
       "3  https://www.congress.gov/member/justin-amash/A...        Michigan   \n",
       "4  https://www.congress.gov/member/mark-amodei/A0...          Nevada   \n",
       "\n",
       "   District       Party                Terms  \n",
       "0      12.0  Democratic  House: 2014-Present  \n",
       "1       4.0  Republican  House: 1997-Present  \n",
       "2       5.0  Republican     House: 2003-2013  \n",
       "3       3.0  Republican  House: 2011-Present  \n",
       "4       2.0  Republican  House: 2011-Present  "
      ]
     },
     "execution_count": 85,
     "metadata": {},
     "output_type": "execute_result"
    }
   ],
   "source": [
    "results_2012.head()"
   ]
  },
  {
   "cell_type": "code",
   "execution_count": 87,
   "metadata": {},
   "outputs": [],
   "source": [
    "# Get state names and FIPS codes for each state\n",
    "\n",
    "st = states.STATES\n",
    "\n",
    "states_dict = {}\n",
    "\n",
    "for state in st:\n",
    "    states_dict[state] = state.fips"
   ]
  },
  {
   "cell_type": "code",
   "execution_count": 88,
   "metadata": {},
   "outputs": [],
   "source": [
    "# Create dictionary for each FIPS code\n",
    "\n",
    "fips = {}\n",
    "for state, fip in states_dict.items():\n",
    "    fips[str(state)] = fip"
   ]
  },
  {
   "cell_type": "code",
   "execution_count": 89,
   "metadata": {},
   "outputs": [
    {
     "data": {
      "text/plain": [
       "{'Alabama': '01',\n",
       " 'Alaska': '02',\n",
       " 'Arizona': '04',\n",
       " 'Arkansas': '05',\n",
       " 'California': '06',\n",
       " 'Colorado': '08',\n",
       " 'Connecticut': '09',\n",
       " 'Delaware': '10',\n",
       " 'District of Columbia': '11',\n",
       " 'Florida': '12',\n",
       " 'Georgia': '13',\n",
       " 'Hawaii': '15',\n",
       " 'Idaho': '16',\n",
       " 'Illinois': '17',\n",
       " 'Indiana': '18',\n",
       " 'Iowa': '19',\n",
       " 'Kansas': '20',\n",
       " 'Kentucky': '21',\n",
       " 'Louisiana': '22',\n",
       " 'Maine': '23',\n",
       " 'Maryland': '24',\n",
       " 'Massachusetts': '25',\n",
       " 'Michigan': '26',\n",
       " 'Minnesota': '27',\n",
       " 'Mississippi': '28',\n",
       " 'Missouri': '29',\n",
       " 'Montana': '30',\n",
       " 'Nebraska': '31',\n",
       " 'Nevada': '32',\n",
       " 'New Hampshire': '33',\n",
       " 'New Jersey': '34',\n",
       " 'New Mexico': '35',\n",
       " 'New York': '36',\n",
       " 'North Carolina': '37',\n",
       " 'North Dakota': '38',\n",
       " 'Ohio': '39',\n",
       " 'Oklahoma': '40',\n",
       " 'Oregon': '41',\n",
       " 'Pennsylvania': '42',\n",
       " 'Rhode Island': '44',\n",
       " 'South Carolina': '45',\n",
       " 'South Dakota': '46',\n",
       " 'Tennessee': '47',\n",
       " 'Texas': '48',\n",
       " 'Utah': '49',\n",
       " 'Vermont': '50',\n",
       " 'Virginia': '51',\n",
       " 'Washington': '53',\n",
       " 'West Virginia': '54',\n",
       " 'Wisconsin': '55',\n",
       " 'Wyoming': '56'}"
      ]
     },
     "execution_count": 89,
     "metadata": {},
     "output_type": "execute_result"
    }
   ],
   "source": [
    "fips"
   ]
  },
  {
   "cell_type": "code",
   "execution_count": 90,
   "metadata": {},
   "outputs": [],
   "source": [
    "states_list = list(fips.keys())"
   ]
  },
  {
   "cell_type": "code",
   "execution_count": 91,
   "metadata": {},
   "outputs": [
    {
     "data": {
      "text/plain": [
       "['Guam',\n",
       " 'Virgin Islands',\n",
       " 'American Samoa',\n",
       " 'Puerto Rico',\n",
       " 'Northern Mariana Islands',\n",
       " 'Guam',\n",
       " 'Puerto Rico',\n",
       " 'Virgin Islands',\n",
       " 'American Samoa',\n",
       " 'Northern Mariana Islands',\n",
       " 'Guam',\n",
       " 'Puerto Rico',\n",
       " 'Virgin Islands',\n",
       " 'American Samoa',\n",
       " 'Northern Mariana Islands',\n",
       " 'Puerto Rico',\n",
       " 'Virgin Islands',\n",
       " 'American Samoa',\n",
       " 'Northern Mariana Islands',\n",
       " 'Guam']"
      ]
     },
     "execution_count": 91,
     "metadata": {},
     "output_type": "execute_result"
    }
   ],
   "source": [
    "# List of values to drop from results data\n",
    "\n",
    "drop_list"
   ]
  },
  {
   "cell_type": "code",
   "execution_count": null,
   "metadata": {},
   "outputs": [],
   "source": [
    "drop_set = set(drop_list)"
   ]
  },
  {
   "cell_type": "code",
   "execution_count": 93,
   "metadata": {},
   "outputs": [
    {
     "name": "stdout",
     "output_type": "stream",
     "text": [
      "450\n",
      "447\n",
      "456\n",
      "440\n"
     ]
    }
   ],
   "source": [
    "# Length of each data frame before dropping above values\n",
    "\n",
    "for df in dfs:\n",
    "    print(len(df))"
   ]
  },
  {
   "cell_type": "code",
   "execution_count": 97,
   "metadata": {},
   "outputs": [],
   "source": [
    "# Drop above values from each data frame\n",
    "\n",
    "drop_indices = []\n",
    "for index, row in dfs[3]['State'].iteritems():\n",
    "    if row in drop_set:\n",
    "        drop_indices.append(index)\n",
    "dfs[3].drop(drop_indices, inplace=True)"
   ]
  },
  {
   "cell_type": "code",
   "execution_count": 98,
   "metadata": {},
   "outputs": [
    {
     "name": "stdout",
     "output_type": "stream",
     "text": [
      "445\n",
      "442\n",
      "451\n",
      "435\n"
     ]
    }
   ],
   "source": [
    "# Length of each data frame after removing above values\n",
    "\n",
    "for df in dfs:\n",
    "    print(len(df))"
   ]
  },
  {
   "cell_type": "code",
   "execution_count": 69,
   "metadata": {},
   "outputs": [
    {
     "data": {
      "text/plain": [
       "[29, 64, 124, 317, 360]"
      ]
     },
     "execution_count": 69,
     "metadata": {},
     "output_type": "execute_result"
    }
   ],
   "source": [
    "drop_indices"
   ]
  },
  {
   "cell_type": "code",
   "execution_count": 99,
   "metadata": {},
   "outputs": [],
   "source": [
    "for frame in dfs:\n",
    "    frame['FIPS'] = [fips[fi] for fi in frame['State']]"
   ]
  },
  {
   "cell_type": "code",
   "execution_count": 104,
   "metadata": {},
   "outputs": [
    {
     "data": {
      "text/html": [
       "<div>\n",
       "<style scoped>\n",
       "    .dataframe tbody tr th:only-of-type {\n",
       "        vertical-align: middle;\n",
       "    }\n",
       "\n",
       "    .dataframe tbody tr th {\n",
       "        vertical-align: top;\n",
       "    }\n",
       "\n",
       "    .dataframe thead th {\n",
       "        text-align: right;\n",
       "    }\n",
       "</style>\n",
       "<table border=\"1\" class=\"dataframe\">\n",
       "  <thead>\n",
       "    <tr style=\"text-align: right;\">\n",
       "      <th></th>\n",
       "      <th>Name</th>\n",
       "      <th>URL</th>\n",
       "      <th>State</th>\n",
       "      <th>District</th>\n",
       "      <th>Party</th>\n",
       "      <th>Terms</th>\n",
       "      <th>FIPS</th>\n",
       "    </tr>\n",
       "  </thead>\n",
       "  <tbody>\n",
       "    <tr>\n",
       "      <th>0</th>\n",
       "      <td>Representative Abraham, Ralph Lee</td>\n",
       "      <td>https://www.congress.gov/member/ralph-abraham/...</td>\n",
       "      <td>Louisiana</td>\n",
       "      <td>5.0</td>\n",
       "      <td>Republican</td>\n",
       "      <td>House: 2015-Present</td>\n",
       "      <td>22</td>\n",
       "    </tr>\n",
       "    <tr>\n",
       "      <th>1</th>\n",
       "      <td>Representative Adams, Alma S.</td>\n",
       "      <td>https://www.congress.gov/member/alma-adams/A00...</td>\n",
       "      <td>North Carolina</td>\n",
       "      <td>12.0</td>\n",
       "      <td>Democratic</td>\n",
       "      <td>House: 2014-Present</td>\n",
       "      <td>37</td>\n",
       "    </tr>\n",
       "    <tr>\n",
       "      <th>2</th>\n",
       "      <td>Representative Aderholt, Robert B.</td>\n",
       "      <td>https://www.congress.gov/member/robert-aderhol...</td>\n",
       "      <td>Alabama</td>\n",
       "      <td>4.0</td>\n",
       "      <td>Republican</td>\n",
       "      <td>House: 1997-Present</td>\n",
       "      <td>01</td>\n",
       "    </tr>\n",
       "    <tr>\n",
       "      <th>3</th>\n",
       "      <td>Representative Aguilar, Pete</td>\n",
       "      <td>https://www.congress.gov/member/pete-aguilar/A...</td>\n",
       "      <td>California</td>\n",
       "      <td>31.0</td>\n",
       "      <td>Democratic</td>\n",
       "      <td>House: 2015-Present</td>\n",
       "      <td>06</td>\n",
       "    </tr>\n",
       "    <tr>\n",
       "      <th>4</th>\n",
       "      <td>Representative Allen, Rick W.</td>\n",
       "      <td>https://www.congress.gov/member/rick-allen/A00...</td>\n",
       "      <td>Georgia</td>\n",
       "      <td>12.0</td>\n",
       "      <td>Republican</td>\n",
       "      <td>House: 2015-Present</td>\n",
       "      <td>13</td>\n",
       "    </tr>\n",
       "    <tr>\n",
       "      <th>5</th>\n",
       "      <td>Representative Allred, Colin Z.</td>\n",
       "      <td>https://www.congress.gov/member/colin-allred/A...</td>\n",
       "      <td>Texas</td>\n",
       "      <td>32.0</td>\n",
       "      <td>Democratic</td>\n",
       "      <td>House: 2019-Present</td>\n",
       "      <td>48</td>\n",
       "    </tr>\n",
       "    <tr>\n",
       "      <th>6</th>\n",
       "      <td>Representative Amash, Justin</td>\n",
       "      <td>https://www.congress.gov/member/justin-amash/A...</td>\n",
       "      <td>Michigan</td>\n",
       "      <td>3.0</td>\n",
       "      <td>Republican</td>\n",
       "      <td>House: 2011-Present</td>\n",
       "      <td>26</td>\n",
       "    </tr>\n",
       "    <tr>\n",
       "      <th>7</th>\n",
       "      <td>Representative Amodei, Mark E.</td>\n",
       "      <td>https://www.congress.gov/member/mark-amodei/A0...</td>\n",
       "      <td>Nevada</td>\n",
       "      <td>2.0</td>\n",
       "      <td>Republican</td>\n",
       "      <td>House: 2011-Present</td>\n",
       "      <td>32</td>\n",
       "    </tr>\n",
       "    <tr>\n",
       "      <th>8</th>\n",
       "      <td>Representative Armstrong, Kelly</td>\n",
       "      <td>https://www.congress.gov/member/kelly-armstron...</td>\n",
       "      <td>North Dakota</td>\n",
       "      <td>NaN</td>\n",
       "      <td>Republican</td>\n",
       "      <td>House: 2019-Present</td>\n",
       "      <td>38</td>\n",
       "    </tr>\n",
       "    <tr>\n",
       "      <th>9</th>\n",
       "      <td>Representative Arrington, Jodey C.</td>\n",
       "      <td>https://www.congress.gov/member/jodey-arringto...</td>\n",
       "      <td>Texas</td>\n",
       "      <td>19.0</td>\n",
       "      <td>Republican</td>\n",
       "      <td>House: 2017-Present</td>\n",
       "      <td>48</td>\n",
       "    </tr>\n",
       "  </tbody>\n",
       "</table>\n",
       "</div>"
      ],
      "text/plain": [
       "                                 Name  \\\n",
       "0   Representative Abraham, Ralph Lee   \n",
       "1       Representative Adams, Alma S.   \n",
       "2  Representative Aderholt, Robert B.   \n",
       "3        Representative Aguilar, Pete   \n",
       "4       Representative Allen, Rick W.   \n",
       "5     Representative Allred, Colin Z.   \n",
       "6        Representative Amash, Justin   \n",
       "7      Representative Amodei, Mark E.   \n",
       "8     Representative Armstrong, Kelly   \n",
       "9  Representative Arrington, Jodey C.   \n",
       "\n",
       "                                                 URL           State  \\\n",
       "0  https://www.congress.gov/member/ralph-abraham/...       Louisiana   \n",
       "1  https://www.congress.gov/member/alma-adams/A00...  North Carolina   \n",
       "2  https://www.congress.gov/member/robert-aderhol...         Alabama   \n",
       "3  https://www.congress.gov/member/pete-aguilar/A...      California   \n",
       "4  https://www.congress.gov/member/rick-allen/A00...         Georgia   \n",
       "5  https://www.congress.gov/member/colin-allred/A...           Texas   \n",
       "6  https://www.congress.gov/member/justin-amash/A...        Michigan   \n",
       "7  https://www.congress.gov/member/mark-amodei/A0...          Nevada   \n",
       "8  https://www.congress.gov/member/kelly-armstron...    North Dakota   \n",
       "9  https://www.congress.gov/member/jodey-arringto...           Texas   \n",
       "\n",
       "   District       Party                Terms FIPS  \n",
       "0       5.0  Republican  House: 2015-Present   22  \n",
       "1      12.0  Democratic  House: 2014-Present   37  \n",
       "2       4.0  Republican  House: 1997-Present   01  \n",
       "3      31.0  Democratic  House: 2015-Present   06  \n",
       "4      12.0  Republican  House: 2015-Present   13  \n",
       "5      32.0  Democratic  House: 2019-Present   48  \n",
       "6       3.0  Republican  House: 2011-Present   26  \n",
       "7       2.0  Republican  House: 2011-Present   32  \n",
       "8       NaN  Republican  House: 2019-Present   38  \n",
       "9      19.0  Republican  House: 2017-Present   48  "
      ]
     },
     "execution_count": 104,
     "metadata": {},
     "output_type": "execute_result"
    }
   ],
   "source": [
    "results_2018.head(10)"
   ]
  },
  {
   "cell_type": "code",
   "execution_count": 110,
   "metadata": {},
   "outputs": [],
   "source": [
    "# Fill in null values\n",
    "\n",
    "results_2012.fillna(value=0,inplace=True)\n",
    "results_2014.fillna(value=0,inplace=True)\n",
    "results_2016.fillna(value=0,inplace=True)\n",
    "results_2018.fillna(value=0,inplace=True)"
   ]
  },
  {
   "cell_type": "code",
   "execution_count": 116,
   "metadata": {},
   "outputs": [],
   "source": [
    "# Rename congressional district and state columns for joining later\n",
    "\n",
    "results_2012 = results_2012.rename(columns={'State': 'Oldstate', 'FIPS': 'State'})\n",
    "results_2014 = results_2014.rename(columns={'State': 'Oldstate', 'FIPS': 'State'})\n",
    "results_2016 = results_2016.rename(columns={'State': 'Oldstate', 'FIPS': 'State'})\n",
    "results_2018 = results_2018.rename(columns={'State': 'Oldstate', 'FIPS': 'State'})"
   ]
  },
  {
   "cell_type": "code",
   "execution_count": 118,
   "metadata": {},
   "outputs": [],
   "source": [
    "dfs = [results_2012,results_2014,results_2016,results_2018]"
   ]
  },
  {
   "cell_type": "code",
   "execution_count": 119,
   "metadata": {},
   "outputs": [],
   "source": [
    "# Set state and district types to integers\n",
    "\n",
    "for df in dfs:\n",
    "    df['District'] = df['District'].astype(int)\n",
    "    df['State'] = df['State'].astype(int)"
   ]
  },
  {
   "cell_type": "code",
   "execution_count": 121,
   "metadata": {},
   "outputs": [],
   "source": [
    "for df in dfs:\n",
    "    df.reset_index(inplace=True)"
   ]
  },
  {
   "cell_type": "code",
   "execution_count": 123,
   "metadata": {},
   "outputs": [],
   "source": [
    "# Set election year for each results table\n",
    "\n",
    "results_2012['Year'] = 2012\n",
    "results_2014['Year'] = 2014\n",
    "results_2016['Year'] = 2016\n",
    "results_2018['Year'] = 2018"
   ]
  },
  {
   "cell_type": "code",
   "execution_count": 128,
   "metadata": {},
   "outputs": [],
   "source": [
    "results_2012.drop(['index'], axis=1, inplace=True)\n",
    "results_2014.drop(['index'], axis=1, inplace=True)\n",
    "results_2016.drop(['index'], axis=1, inplace=True)\n",
    "results_2018.drop(['index'], axis=1, inplace=True)"
   ]
  },
  {
   "cell_type": "code",
   "execution_count": 140,
   "metadata": {},
   "outputs": [],
   "source": [
    "# Create full results table\n",
    "\n",
    "results_data = results_2012.append(results_2014)\n",
    "results_data = results_data.append(results_2016)\n",
    "results_data = results_data.append(results_2018)"
   ]
  },
  {
   "cell_type": "code",
   "execution_count": 141,
   "metadata": {},
   "outputs": [
    {
     "data": {
      "text/plain": [
       "1773"
      ]
     },
     "execution_count": 141,
     "metadata": {},
     "output_type": "execute_result"
    }
   ],
   "source": [
    "len(results_data)"
   ]
  },
  {
   "cell_type": "code",
   "execution_count": 142,
   "metadata": {},
   "outputs": [],
   "source": [
    "results_data.to_csv('results_data.csv')"
   ]
  },
  {
   "cell_type": "code",
   "execution_count": null,
   "metadata": {},
   "outputs": [],
   "source": []
  }
 ],
 "metadata": {
  "kernelspec": {
   "display_name": "Python 3",
   "language": "python",
   "name": "python3"
  },
  "language_info": {
   "codemirror_mode": {
    "name": "ipython",
    "version": 3
   },
   "file_extension": ".py",
   "mimetype": "text/x-python",
   "name": "python",
   "nbconvert_exporter": "python",
   "pygments_lexer": "ipython3",
   "version": "3.7.2"
  },
  "toc": {
   "base_numbering": 1,
   "nav_menu": {},
   "number_sections": true,
   "sideBar": true,
   "skip_h1_title": false,
   "title_cell": "Table of Contents",
   "title_sidebar": "Contents",
   "toc_cell": false,
   "toc_position": {},
   "toc_section_display": true,
   "toc_window_display": false
  },
  "varInspector": {
   "cols": {
    "lenName": 16,
    "lenType": 16,
    "lenVar": 40
   },
   "kernels_config": {
    "python": {
     "delete_cmd_postfix": "",
     "delete_cmd_prefix": "del ",
     "library": "var_list.py",
     "varRefreshCmd": "print(var_dic_list())"
    },
    "r": {
     "delete_cmd_postfix": ") ",
     "delete_cmd_prefix": "rm(",
     "library": "var_list.r",
     "varRefreshCmd": "cat(var_dic_list()) "
    }
   },
   "types_to_exclude": [
    "module",
    "function",
    "builtin_function_or_method",
    "instance",
    "_Feature"
   ],
   "window_display": false
  }
 },
 "nbformat": 4,
 "nbformat_minor": 2
}
