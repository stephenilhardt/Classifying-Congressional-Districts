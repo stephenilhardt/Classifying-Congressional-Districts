{
 "cells": [
  {
   "cell_type": "code",
   "execution_count": 14,
   "metadata": {},
   "outputs": [],
   "source": [
    "import numpy as np\n",
    "import pandas as pd\n",
    "\n",
    "from psycopg2 import connect\n",
    "from psycopg2.extensions import ISOLATION_LEVEL_AUTOCOMMIT\n",
    "\n",
    "from sqlalchemy import create_engine"
   ]
  },
  {
   "cell_type": "code",
   "execution_count": 15,
   "metadata": {},
   "outputs": [],
   "source": [
    "# Server parameter list\n",
    "\n",
    "params = {\n",
    "    'host': '3.17.144.113',\n",
    "    'user': 'ubuntu',\n",
    "    'port': 5432\n",
    "}"
   ]
  },
  {
   "cell_type": "code",
   "execution_count": 16,
   "metadata": {},
   "outputs": [],
   "source": [
    "connection_string = f'postgres://ubuntu:{params[\"host\"]}@{params[\"host\"]}:{params[\"port\"]}/elections'\n",
    "    \n",
    "engine = create_engine(connection_string)"
   ]
  },
  {
   "cell_type": "code",
   "execution_count": 17,
   "metadata": {},
   "outputs": [],
   "source": [
    "# Read in SQL tables\n",
    "\n",
    "sf1 = pd.read_sql('census', engine)\n",
    "social = pd.read_sql('social', engine)\n",
    "economic = pd.read_sql('economic', engine)\n",
    "housing = pd.read_sql('housing', engine)\n",
    "\n",
    "results = pd.read_sql('results', engine)"
   ]
  },
  {
   "cell_type": "markdown",
   "metadata": {},
   "source": [
    "Note: I intended to do all of my joins and unions in SQL from here forward but my column names were badly misformatted when imported by SQL Alchemy in the \"to SQL\" file and I didn't have time to diagnose the problem. I used Pandas instead. "
   ]
  },
  {
   "cell_type": "code",
   "execution_count": 18,
   "metadata": {},
   "outputs": [],
   "source": [
    "# Create full ACS1 table\n",
    "\n",
    "acs1 = pd.merge(social, economic, how='outer', on = ['State','District','Year'])\n",
    "acs1 = pd.merge(acs1, housing, how='outer', on = ['State','District','Year'])"
   ]
  },
  {
   "cell_type": "code",
   "execution_count": 19,
   "metadata": {},
   "outputs": [],
   "source": [
    "# Get numeric columns for each data frame\n",
    "\n",
    "sf1_numeric_cols = []\n",
    "for column in sf1.columns:\n",
    "    try:\n",
    "        sf1[column] = pd.to_numeric(sf1[column])\n",
    "        sf1_numeric_cols.append(column)\n",
    "    except:\n",
    "        pass\n",
    "    \n",
    "sf1_num = sf1[sf1_numeric_cols]"
   ]
  },
  {
   "cell_type": "code",
   "execution_count": 20,
   "metadata": {},
   "outputs": [],
   "source": [
    "acs1_numeric_cols = []\n",
    "for column in acs1.columns:\n",
    "    try:\n",
    "        acs1[column] = pd.to_numeric(acs1[column])\n",
    "        acs1_numeric_cols.append(column)\n",
    "    except:\n",
    "        pass\n",
    "    \n",
    "acs1_num = acs1[acs1_numeric_cols]"
   ]
  },
  {
   "cell_type": "code",
   "execution_count": 21,
   "metadata": {},
   "outputs": [],
   "source": [
    "social_numeric_cols = []\n",
    "for column in social.columns:\n",
    "    try:\n",
    "        social[column] = pd.to_numeric(social[column])\n",
    "        social_numeric_cols.append(column)\n",
    "    except:\n",
    "        pass\n",
    "    \n",
    "social_num = social[social_numeric_cols]"
   ]
  },
  {
   "cell_type": "code",
   "execution_count": 22,
   "metadata": {},
   "outputs": [],
   "source": [
    "economic_numeric_cols = []\n",
    "for column in economic.columns:\n",
    "    try:\n",
    "        economic[column] = pd.to_numeric(economic[column])\n",
    "        economic_numeric_cols.append(column)\n",
    "    except:\n",
    "        pass\n",
    "    \n",
    "economic_num = economic[economic_numeric_cols]"
   ]
  },
  {
   "cell_type": "code",
   "execution_count": 23,
   "metadata": {},
   "outputs": [],
   "source": [
    "housing_numeric_cols = []\n",
    "for column in housing.columns:\n",
    "    try:\n",
    "        housing[column] = pd.to_numeric(housing[column])\n",
    "        housing_numeric_cols.append(column)\n",
    "    except:\n",
    "        pass\n",
    "    \n",
    "housing_num = housing[housing_numeric_cols]"
   ]
  },
  {
   "cell_type": "code",
   "execution_count": 27,
   "metadata": {},
   "outputs": [],
   "source": [
    "# Merge each data frame with the results\n",
    "\n",
    "sf1 = pd.merge(sf1, results, how='right',on = ['Year','District','State'])\n",
    "acs1 = pd.merge(acs1, results, how='right', on=['Year','District','State'])\n",
    "social = pd.merge(social, results, how='right',on = ['Year','District','State'])\n",
    "economic = pd.merge(economic, results, how='right',on = ['Year','District','State'])\n",
    "housing = pd.merge(housing, results, how='right',on = ['Year','District','State'])"
   ]
  },
  {
   "cell_type": "code",
   "execution_count": 28,
   "metadata": {},
   "outputs": [],
   "source": [
    "sf1 = sf1.dropna()\n",
    "acs1 = acs1.dropna()\n",
    "social = social.dropna()\n",
    "economic = economic.dropna()\n",
    "housing = housing.dropna()"
   ]
  },
  {
   "cell_type": "code",
   "execution_count": 29,
   "metadata": {},
   "outputs": [],
   "source": [
    "sf1 = sf1.drop_duplicates()\n",
    "acs1 = acs1.drop_duplicates()\n",
    "social = social.drop_duplicates()\n",
    "economic = economic.drop_duplicates()\n",
    "housing = housing.drop_duplicates()"
   ]
  },
  {
   "cell_type": "code",
   "execution_count": 30,
   "metadata": {},
   "outputs": [
    {
     "name": "stdout",
     "output_type": "stream",
     "text": [
      "1740 365\n",
      "1740 642\n",
      "1740 174\n",
      "1740 242\n",
      "1740 232\n"
     ]
    }
   ],
   "source": [
    "# Check length of each data frame\n",
    "\n",
    "print(len(sf1_num),len(sf1_num.columns))\n",
    "print(len(acs1_num),len(acs1_num.columns))\n",
    "print(len(social_num),len(social_num.columns))\n",
    "print(len(economic_num),len(economic_num.columns))\n",
    "print(len(housing_num),len(housing_num.columns))"
   ]
  },
  {
   "cell_type": "code",
   "execution_count": 47,
   "metadata": {},
   "outputs": [],
   "source": [
    "# Split data frame column names into numerical and percentage tables\n",
    "\n",
    "sf1_numerical = []\n",
    "sf1_percent = []\n",
    "\n",
    "for column in sf1_num:\n",
    "    if column[0] == 'N':\n",
    "        sf1_numerical.append(column)\n",
    "    elif column[0] == 'P':\n",
    "        sf1_percent.append(column)\n",
    "        \n",
    "acs1_numerical = []\n",
    "acs1_percent = []\n",
    "\n",
    "for column in acs1_num:\n",
    "    if column[0] == 'E':\n",
    "        acs1_numerical.append(column)\n",
    "    elif column[0] == 'P':\n",
    "        acs1_percent.append(column)\n",
    "        \n",
    "social_numerical = []\n",
    "social_percent = []\n",
    "\n",
    "for column in social_num:\n",
    "    if column[0] == 'E':\n",
    "        social_numerical.append(column)\n",
    "    elif column[0] == 'P':\n",
    "        social_percent.append(column)\n",
    "        \n",
    "economic_numerical = []\n",
    "economic_percent = []\n",
    "\n",
    "for column in economic_num:\n",
    "    if column[0] == 'E':\n",
    "        economic_numerical.append(column)\n",
    "    elif column[0] == 'P':\n",
    "        economic_percent.append(column)\n",
    "        \n",
    "housing_numerical = []\n",
    "housing_percent = []\n",
    "\n",
    "for column in housing_num:\n",
    "    if column[0] == 'E':\n",
    "        housing_numerical.append(column)\n",
    "    elif column[0] == 'P':\n",
    "        housing_percent.append(column)"
   ]
  },
  {
   "cell_type": "code",
   "execution_count": 48,
   "metadata": {},
   "outputs": [],
   "source": [
    "# Create new data frames for percentages vs numerical\n",
    "\n",
    "sf1_numbers = sf1_num[sf1_numerical]\n",
    "sf1_percentages = sf1_num[sf1_percent]\n",
    "\n",
    "acs1_numbers = acs1_num[acs1_numerical]\n",
    "acs1_percentages = acs1_num[acs1_percent]\n",
    "\n",
    "social_numbers = social_num[social_numerical]\n",
    "social_percentages = social_num[social_percent]\n",
    "\n",
    "economic_numbers = economic_num[economic_numerical]\n",
    "economic_percentages = economic_num[economic_percent]\n",
    "\n",
    "housing_numbers = housing_num[housing_numerical]\n",
    "housing_percentages = housing_num[housing_percent]"
   ]
  },
  {
   "cell_type": "code",
   "execution_count": 49,
   "metadata": {},
   "outputs": [],
   "source": [
    "# Create dummy variables in the predictions data frame\n",
    "\n",
    "sf1_predictions = pd.DataFrame(sf1_predictions)\n",
    "sf1_predictions[['Democrat','Republican']] = pd.get_dummies(sf1_predictions['Party'])"
   ]
  },
  {
   "cell_type": "code",
   "execution_count": 50,
   "metadata": {},
   "outputs": [],
   "source": [
    "predictions = sf1_predictions"
   ]
  },
  {
   "cell_type": "code",
   "execution_count": 24,
   "metadata": {},
   "outputs": [],
   "source": [
    "# Create new CSVs for numerical vs percentage tables\n",
    "\n",
    "sf1_numbers.to_csv('sf1_numbers.csv')\n",
    "sf1_percentages.to_csv('sf1_percentages.csv')\n",
    "acs1_numbers.to_csv('acs1_numbers.csv')\n",
    "acs1_percentages.to_csv('acs1_percentages.csv')\n",
    "social_numbers.to_csv('social_numbers.csv')\n",
    "social_percentages.to_csv('social_percentages.csv')\n",
    "economic_numbers.to_csv('economic_numbers.csv')\n",
    "economic_percentages.to_csv('economic_percentages.csv')\n",
    "housing_numbers.to_csv('housing_numbers.csv')\n",
    "housing_percentages.to_csv('housing_percentages.csv')\n",
    "\n",
    "predictions.to_csv('predictions.csv')"
   ]
  }
 ],
 "metadata": {
  "kernelspec": {
   "display_name": "Python 3",
   "language": "python",
   "name": "python3"
  },
  "language_info": {
   "codemirror_mode": {
    "name": "ipython",
    "version": 3
   },
   "file_extension": ".py",
   "mimetype": "text/x-python",
   "name": "python",
   "nbconvert_exporter": "python",
   "pygments_lexer": "ipython3",
   "version": "3.7.2"
  },
  "toc": {
   "base_numbering": 1,
   "nav_menu": {},
   "number_sections": true,
   "sideBar": true,
   "skip_h1_title": false,
   "title_cell": "Table of Contents",
   "title_sidebar": "Contents",
   "toc_cell": false,
   "toc_position": {},
   "toc_section_display": true,
   "toc_window_display": false
  },
  "varInspector": {
   "cols": {
    "lenName": 16,
    "lenType": 16,
    "lenVar": 40
   },
   "kernels_config": {
    "python": {
     "delete_cmd_postfix": "",
     "delete_cmd_prefix": "del ",
     "library": "var_list.py",
     "varRefreshCmd": "print(var_dic_list())"
    },
    "r": {
     "delete_cmd_postfix": ") ",
     "delete_cmd_prefix": "rm(",
     "library": "var_list.r",
     "varRefreshCmd": "cat(var_dic_list()) "
    }
   },
   "types_to_exclude": [
    "module",
    "function",
    "builtin_function_or_method",
    "instance",
    "_Feature"
   ],
   "window_display": false
  }
 },
 "nbformat": 4,
 "nbformat_minor": 2
}
