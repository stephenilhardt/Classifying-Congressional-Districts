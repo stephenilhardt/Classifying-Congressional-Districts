{
 "cells": [
  {
   "cell_type": "code",
   "execution_count": 37,
   "metadata": {},
   "outputs": [],
   "source": [
    "import numpy as np\n",
    "import pandas as pd\n",
    "\n",
    "from psycopg2 import connect\n",
    "from psycopg2.extensions import ISOLATION_LEVEL_AUTOCOMMIT\n",
    "\n",
    "from sqlalchemy import create_engine"
   ]
  },
  {
   "cell_type": "code",
   "execution_count": 51,
   "metadata": {},
   "outputs": [],
   "source": [
    "social = pd.read_csv('social_data.csv')\n",
    "housing = pd.read_csv('housing_data.csv')\n",
    "economic = pd.read_csv('economic_data.csv')\n",
    "census = pd.read_csv('census_data.csv')\n",
    "results = pd.read_csv('results_data.csv')"
   ]
  },
  {
   "cell_type": "code",
   "execution_count": 39,
   "metadata": {},
   "outputs": [],
   "source": [
    "dfs = [social, economic, housing, census, results]\n",
    "\n",
    "names = ['social','economic','housing','census','results']\n",
    "\n",
    "for index, df in enumerate(dfs):\n",
    "    df.name = names[index]"
   ]
  },
  {
   "cell_type": "code",
   "execution_count": 40,
   "metadata": {},
   "outputs": [],
   "source": [
    "for df in dfs:\n",
    "    df.drop(['Unnamed: 0'], axis=1, inplace=True)"
   ]
  },
  {
   "cell_type": "code",
   "execution_count": 41,
   "metadata": {},
   "outputs": [],
   "source": [
    "for df in [social,economic,housing,census]:\n",
    "    df.drop(['index'], axis=1, inplace=True)"
   ]
  },
  {
   "cell_type": "code",
   "execution_count": 42,
   "metadata": {},
   "outputs": [],
   "source": [
    "census.drop(['level_0'], axis=1, inplace=True)"
   ]
  },
  {
   "cell_type": "code",
   "execution_count": 43,
   "metadata": {},
   "outputs": [],
   "source": [
    "indices = []\n",
    "\n",
    "number = 1\n",
    "percent = 1\n",
    "for col in census.columns:\n",
    "    if col[0] == 'N':\n",
    "        indices.append('Number_Census_{}'.format(number))\n",
    "        number += 1\n",
    "    elif col[0] == 'P':\n",
    "        indices.append('Percent_Census_{}'.format(percent))\n",
    "        percent += 1\n",
    "    else:\n",
    "        indices.append(col)\n",
    "        \n",
    "\n",
    "census_index = pd.DataFrame()\n",
    "\n",
    "census_index['Index'] = indices\n",
    "census_index['Columns'] = census.columns"
   ]
  },
  {
   "cell_type": "code",
   "execution_count": 44,
   "metadata": {},
   "outputs": [],
   "source": [
    "indices = []\n",
    "\n",
    "number = 1\n",
    "percent = 1\n",
    "for col in social.columns:\n",
    "    if col[0] == 'E':\n",
    "        indices.append('Number_Social_{}'.format(number))\n",
    "        number += 1\n",
    "    elif col[0] == 'P':\n",
    "        indices.append('Percent_Social_{}'.format(percent))\n",
    "        percent += 1\n",
    "    else:\n",
    "        indices.append(col)\n",
    "        \n",
    "\n",
    "social_index = pd.DataFrame()\n",
    "\n",
    "social_index['Index'] = indices\n",
    "social_index['Columns'] = social.columns"
   ]
  },
  {
   "cell_type": "code",
   "execution_count": 45,
   "metadata": {},
   "outputs": [],
   "source": [
    "indices = []\n",
    "\n",
    "number = 1\n",
    "percent = 1\n",
    "for col in economic.columns:\n",
    "    if col[0] == 'E':\n",
    "        indices.append('Number_Economic_{}'.format(number))\n",
    "        number += 1\n",
    "    elif col[0] == 'P':\n",
    "        indices.append('Percent_Economic_{}'.format(percent))\n",
    "        percent += 1\n",
    "    else:\n",
    "        indices.append(col)\n",
    "        \n",
    "\n",
    "economic_index = pd.DataFrame()\n",
    "\n",
    "economic_index['Index'] = indices\n",
    "economic_index['Columns'] = economic.columns"
   ]
  },
  {
   "cell_type": "code",
   "execution_count": 46,
   "metadata": {},
   "outputs": [],
   "source": [
    "indices = []\n",
    "\n",
    "number = 1\n",
    "percent = 1\n",
    "for col in housing.columns:\n",
    "    if col[0] == 'E':\n",
    "        indices.append('Number_Housing_{}'.format(number))\n",
    "        number += 1\n",
    "    elif col[0] == 'P':\n",
    "        indices.append('Percent_Housing_{}'.format(percent))\n",
    "        percent += 1\n",
    "    else:\n",
    "        indices.append(col)\n",
    "        \n",
    "\n",
    "housing_index = pd.DataFrame()\n",
    "\n",
    "housing_index['Index'] = indices\n",
    "housing_index['Columns'] = housing.columns"
   ]
  },
  {
   "cell_type": "code",
   "execution_count": 49,
   "metadata": {},
   "outputs": [],
   "source": [
    "census.columns = census_index['Index'].tolist()\n",
    "social.columns = social_index['Index'].tolist()\n",
    "economic.columns = economic_index['Index'].tolist()\n",
    "housing.columns = housing_index['Index'].tolist()"
   ]
  },
  {
   "cell_type": "code",
   "execution_count": 50,
   "metadata": {},
   "outputs": [
    {
     "data": {
      "text/plain": [
       "Index(['Id', 'Id2', 'Geography', 'Number_Census_1', 'Percent_Census_1',\n",
       "       'Number_Census_2', 'Percent_Census_2', 'Number_Census_3',\n",
       "       'Percent_Census_3', 'Number_Census_4',\n",
       "       ...\n",
       "       'Percent_Census_183', 'Number_Census_184', 'Percent_Census_184',\n",
       "       'Number_Census_185', 'Percent_Census_185', 'Number_Census_186',\n",
       "       'Percent_Census_186', 'District', 'State', 'Year'],\n",
       "      dtype='object', length=378)"
      ]
     },
     "execution_count": 50,
     "metadata": {},
     "output_type": "execute_result"
    }
   ],
   "source": [
    "census.columns"
   ]
  },
  {
   "cell_type": "code",
   "execution_count": null,
   "metadata": {},
   "outputs": [],
   "source": []
  }
 ],
 "metadata": {
  "kernelspec": {
   "display_name": "Python 3",
   "language": "python",
   "name": "python3"
  },
  "language_info": {
   "codemirror_mode": {
    "name": "ipython",
    "version": 3
   },
   "file_extension": ".py",
   "mimetype": "text/x-python",
   "name": "python",
   "nbconvert_exporter": "python",
   "pygments_lexer": "ipython3",
   "version": "3.7.2"
  }
 },
 "nbformat": 4,
 "nbformat_minor": 2
}
