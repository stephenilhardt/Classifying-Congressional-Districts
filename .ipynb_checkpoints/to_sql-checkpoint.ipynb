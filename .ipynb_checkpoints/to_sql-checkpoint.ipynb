{
 "cells": [
  {
   "cell_type": "code",
   "execution_count": 43,
   "metadata": {},
   "outputs": [],
   "source": [
    "import numpy as np\n",
    "import pandas as pd\n",
    "import pandas.io.sql as pd_sql\n",
    "\n",
    "from psycopg2 import connect\n",
    "from psycopg2.extensions import ISOLATION_LEVEL_AUTOCOMMIT\n",
    "\n",
    "from sqlalchemy import create_engine"
   ]
  },
  {
   "cell_type": "code",
   "execution_count": 55,
   "metadata": {},
   "outputs": [],
   "source": [
    "# Read in cleaned CSV files\n",
    "\n",
    "social = pd.read_csv('social_data.csv')\n",
    "housing = pd.read_csv('housing_data.csv')\n",
    "economic = pd.read_csv('economic_data.csv')\n",
    "census = pd.read_csv('census_data.csv')\n",
    "results = pd.read_csv('results_data.csv')"
   ]
  },
  {
   "cell_type": "code",
   "execution_count": 73,
   "metadata": {},
   "outputs": [],
   "source": [
    "# Remove junk columns\n",
    "\n",
    "dfs = [census,social,economic,housing]\n",
    "\n",
    "for df in dfs:\n",
    "    df.drop(['index', 'Unnamed: 0'], axis=1, inplace=True)"
   ]
  },
  {
   "cell_type": "code",
   "execution_count": 78,
   "metadata": {},
   "outputs": [],
   "source": [
    "census.drop(['level_0'],axis=1,inplace=True)"
   ]
  },
  {
   "cell_type": "code",
   "execution_count": 79,
   "metadata": {},
   "outputs": [],
   "source": [
    "results.drop(['Unnamed: 0'],axis=1,inplace=True)"
   ]
  },
  {
   "cell_type": "code",
   "execution_count": 86,
   "metadata": {},
   "outputs": [],
   "source": [
    "# Set parameters for database\n",
    "\n",
    "params = {\n",
    "    'host': '3.17.144.113',\n",
    "    'user': 'ubuntu',\n",
    "    'port': 5432\n",
    "}"
   ]
  },
  {
   "cell_type": "code",
   "execution_count": 88,
   "metadata": {},
   "outputs": [],
   "source": [
    "dfs = [social, economic, housing, census, results]\n",
    "\n",
    "names = ['social','economic','housing','census','results']\n",
    "\n",
    "for index, df in enumerate(dfs):\n",
    "    df.name = names[index]"
   ]
  },
  {
   "cell_type": "code",
   "execution_count": 93,
   "metadata": {},
   "outputs": [],
   "source": [
    "# Create new index frame for each frame to hold true column names\n",
    "\n",
    "indices = []\n",
    "\n",
    "number = 1\n",
    "percent = 1\n",
    "for col in census.columns:\n",
    "    if col[0] == 'N':\n",
    "        indices.append('Number_Census_{}'.format(number))\n",
    "        number += 1\n",
    "    elif col[0] == 'P':\n",
    "        indices.append('Percent_Census_{}'.format(percent))\n",
    "        percent += 1\n",
    "    else:\n",
    "        indices.append(col)\n",
    "        \n",
    "\n",
    "census_index = pd.DataFrame()\n",
    "\n",
    "census_index['Index'] = indices\n",
    "census_index['Columns'] = census.columns"
   ]
  },
  {
   "cell_type": "code",
   "execution_count": 95,
   "metadata": {},
   "outputs": [],
   "source": [
    "indices = []\n",
    "\n",
    "number = 1\n",
    "percent = 1\n",
    "for col in social.columns:\n",
    "    if col[0] == 'E':\n",
    "        indices.append('Number_Social_{}'.format(number))\n",
    "        number += 1\n",
    "    elif col[0] == 'P':\n",
    "        indices.append('Percent_Social_{}'.format(percent))\n",
    "        percent += 1\n",
    "    else:\n",
    "        indices.append(col)\n",
    "        \n",
    "\n",
    "social_index = pd.DataFrame()\n",
    "\n",
    "social_index['Index'] = indices\n",
    "social_index['Columns'] = social.columns"
   ]
  },
  {
   "cell_type": "code",
   "execution_count": 96,
   "metadata": {},
   "outputs": [],
   "source": [
    "indices = []\n",
    "\n",
    "number = 1\n",
    "percent = 1\n",
    "for col in economic.columns:\n",
    "    if col[0] == 'E':\n",
    "        indices.append('Number_Economic_{}'.format(number))\n",
    "        number += 1\n",
    "    elif col[0] == 'P':\n",
    "        indices.append('Percent_Economic_{}'.format(percent))\n",
    "        percent += 1\n",
    "    else:\n",
    "        indices.append(col)\n",
    "        \n",
    "\n",
    "economic_index = pd.DataFrame()\n",
    "\n",
    "economic_index['Index'] = indices\n",
    "economic_index['Columns'] = economic.columns"
   ]
  },
  {
   "cell_type": "code",
   "execution_count": 97,
   "metadata": {},
   "outputs": [],
   "source": [
    "indices = []\n",
    "\n",
    "number = 1\n",
    "percent = 1\n",
    "for col in housing.columns:\n",
    "    if col[0] == 'E':\n",
    "        indices.append('Number_Housing_{}'.format(number))\n",
    "        number += 1\n",
    "    elif col[0] == 'P':\n",
    "        indices.append('Percent_Housing_{}'.format(percent))\n",
    "        percent += 1\n",
    "    else:\n",
    "        indices.append(col)\n",
    "        \n",
    "\n",
    "housing_index = pd.DataFrame()\n",
    "\n",
    "housing_index['Index'] = indices\n",
    "housing_index['Columns'] = housing.columns"
   ]
  },
  {
   "cell_type": "code",
   "execution_count": 98,
   "metadata": {},
   "outputs": [],
   "source": [
    "# Rename columns to shorter names\n",
    "\n",
    "census.columns = census_index['Index'].tolist()\n",
    "social.columns = social_index['Index'].tolist()\n",
    "economic.columns = economic_index['Index'].tolist()\n",
    "housing.columns = housing_index['Index'].tolist()"
   ]
  },
  {
   "cell_type": "code",
   "execution_count": 135,
   "metadata": {},
   "outputs": [],
   "source": [
    "# Get dummy variables for results\n",
    "\n",
    "results[['Democratic','Republican']] = pd.get_dummies(results['Party'])"
   ]
  },
  {
   "cell_type": "code",
   "execution_count": 101,
   "metadata": {},
   "outputs": [],
   "source": [
    "# Create database on the server\n",
    "\n",
    "connection = connect(**params)\n",
    "connection.set_isolation_level(ISOLATION_LEVEL_AUTOCOMMIT)\n",
    "\n",
    "connection.cursor().execute('DROP DATABASE IF EXISTS elections;')\n",
    "connection.cursor().execute('CREATE DATABASE elections;')"
   ]
  },
  {
   "cell_type": "code",
   "execution_count": 102,
   "metadata": {},
   "outputs": [],
   "source": [
    "# Create connection engine\n",
    "\n",
    "connection_string = f'postgres://ubuntu:{params[\"host\"]}@{params[\"host\"]}:{params[\"port\"]}/elections'\n",
    "    \n",
    "engine = create_engine(connection_string)"
   ]
  },
  {
   "cell_type": "code",
   "execution_count": 103,
   "metadata": {},
   "outputs": [],
   "source": [
    "# Create SQL tables on server for each data frame\n",
    "\n",
    "census.to_sql('census', engine, index=False,if_exists='append')\n",
    "social.to_sql('social', engine, index=False,if_exists='append')\n",
    "economic.to_sql('economic', engine, index=False,if_exists='append')\n",
    "housing.to_sql('housing', engine, index=False,if_exists='append')"
   ]
  },
  {
   "cell_type": "code",
   "execution_count": 137,
   "metadata": {},
   "outputs": [],
   "source": [
    "results.to_sql('results', engine, index=False,if_exists='append')"
   ]
  },
  {
   "cell_type": "code",
   "execution_count": 134,
   "metadata": {},
   "outputs": [],
   "source": [
    "# Create column index table on server\n",
    "\n",
    "census_index.to_sql('columns', engine, index=False,if_exists='append')\n",
    "social_index.to_sql('columns', engine, index=False,if_exists='append')\n",
    "economic_index.to_sql('columns', engine, index=False,if_exists='append')\n",
    "housing_index.to_sql('columns', engine, index=False,if_exists='append')"
   ]
  },
  {
   "cell_type": "code",
   "execution_count": null,
   "metadata": {},
   "outputs": [],
   "source": []
  }
 ],
 "metadata": {
  "kernelspec": {
   "display_name": "Python 3",
   "language": "python",
   "name": "python3"
  },
  "language_info": {
   "codemirror_mode": {
    "name": "ipython",
    "version": 3
   },
   "file_extension": ".py",
   "mimetype": "text/x-python",
   "name": "python",
   "nbconvert_exporter": "python",
   "pygments_lexer": "ipython3",
   "version": "3.7.2"
  }
 },
 "nbformat": 4,
 "nbformat_minor": 2
}
