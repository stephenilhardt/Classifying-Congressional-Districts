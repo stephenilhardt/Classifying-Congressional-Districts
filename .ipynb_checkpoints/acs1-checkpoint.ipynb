{
 "cells": [
  {
   "cell_type": "code",
   "execution_count": 24,
   "metadata": {},
   "outputs": [],
   "source": [
    "import numpy as np\n",
    "import pandas as pd\n",
    "\n",
    "from census import Census"
   ]
  },
  {
   "cell_type": "code",
   "execution_count": 25,
   "metadata": {},
   "outputs": [],
   "source": [
    "social = []\n",
    "economic = []\n",
    "housing = []"
   ]
  },
  {
   "cell_type": "code",
   "execution_count": 26,
   "metadata": {},
   "outputs": [],
   "source": [
    "files = ['12','14','16','17']"
   ]
  },
  {
   "cell_type": "code",
   "execution_count": 27,
   "metadata": {},
   "outputs": [],
   "source": [
    "# Read in files\n",
    "\n",
    "for file in files:\n",
    "    social.append(pd.read_csv('/Users/Stephen/project-mcnulty/data/ACS_{}_1YR_DP02_with_ann.csv'.format(file)))\n",
    "    economic.append(pd.read_csv('/Users/Stephen/project-mcnulty/data/ACS_{}_1YR_DP03_with_ann.csv'.format(file)))\n",
    "    housing.append(pd.read_csv('/Users/Stephen/project-mcnulty/data/ACS_{}_1YR_DP04_with_ann.csv'.format(file)))"
   ]
  },
  {
   "cell_type": "code",
   "execution_count": 28,
   "metadata": {},
   "outputs": [],
   "source": [
    "# Reset column names\n",
    "\n",
    "for frame in social:\n",
    "    frame.columns = frame.iloc[0]\n",
    "    frame.drop(0, inplace=True)\n",
    "    frame.reset_index(inplace=True)\n",
    "    \n",
    "for frame in economic:\n",
    "    frame.columns = frame.iloc[0]\n",
    "    frame.drop(0, inplace=True)\n",
    "    frame.reset_index(inplace=True)\n",
    "    frame.drop(436, inplace=True)\n",
    "\n",
    "for frame in housing:\n",
    "    frame.columns = frame.iloc[0]\n",
    "    frame.drop(0, inplace=True)\n",
    "    frame.reset_index(inplace=True)\n",
    "    frame.drop(436, inplace=True)  "
   ]
  },
  {
   "cell_type": "code",
   "execution_count": 29,
   "metadata": {},
   "outputs": [],
   "source": [
    "frames = [social, economic, housing]\n",
    "years = [2012, 2014, 2016, 2018]"
   ]
  },
  {
   "cell_type": "code",
   "execution_count": 30,
   "metadata": {},
   "outputs": [],
   "source": [
    "# Set year field\n",
    "\n",
    "for index, frame in enumerate(social):\n",
    "    frame['Type'] = 'Social'\n",
    "    frame['Year'] = years[index]\n",
    "    \n",
    "for index, frame in enumerate(economic):\n",
    "    frame['Type'] = 'Economic'\n",
    "    frame['Year'] = years[index]\n",
    "\n",
    "for index, frame in enumerate(housing):\n",
    "    frame['Type'] = 'Housing'\n",
    "    frame['Year'] = years[index]"
   ]
  },
  {
   "cell_type": "code",
   "execution_count": 31,
   "metadata": {},
   "outputs": [
    {
     "name": "stdout",
     "output_type": "stream",
     "text": [
      "2012 602\n",
      "2014 614\n",
      "2016 614\n",
      "2018 614\n",
      "2012 554\n",
      "2014 554\n",
      "2016 554\n",
      "2018 554\n",
      "2012 570\n",
      "2014 570\n",
      "2016 578\n",
      "2018 578\n"
     ]
    }
   ],
   "source": [
    "# Check the number of columns in each frame\n",
    "\n",
    "for frame in social:\n",
    "    print(frame['Year'].iloc[1], len(frame.columns))\n",
    "    \n",
    "for frame in economic:\n",
    "    print(frame['Year'].iloc[1], len(frame.columns))\n",
    "    \n",
    "for frame in housing:\n",
    "    print(frame['Year'].iloc[1], len(frame.columns))"
   ]
  },
  {
   "cell_type": "code",
   "execution_count": 32,
   "metadata": {},
   "outputs": [],
   "source": [
    "# Drop any column that represents a margin of error\n",
    "\n",
    "for frame in social:\n",
    "    drop_cols = []\n",
    "    for col in frame.columns:\n",
    "        if 'Margin of Error' in col:\n",
    "            drop_cols.append(col)\n",
    "    frame.drop(drop_cols, axis=1, inplace=True)\n",
    "\n",
    "for frame in economic:\n",
    "    drop_cols = []\n",
    "    for col in frame.columns:\n",
    "        if 'Margin of Error' in col:\n",
    "            drop_cols.append(col)\n",
    "    frame.drop(drop_cols, axis=1, inplace=True)\n",
    "\n",
    "for frame in housing:\n",
    "    drop_cols = []\n",
    "    for col in frame.columns:\n",
    "        if 'Margin of Error' in col:\n",
    "            drop_cols.append(col)\n",
    "    frame.drop(drop_cols, axis=1, inplace=True)"
   ]
  },
  {
   "cell_type": "code",
   "execution_count": 33,
   "metadata": {},
   "outputs": [
    {
     "name": "stdout",
     "output_type": "stream",
     "text": [
      "304\n",
      "310\n",
      "310\n",
      "310\n",
      "280\n",
      "280\n",
      "280\n",
      "280\n",
      "288\n",
      "288\n",
      "292\n",
      "292\n"
     ]
    }
   ],
   "source": [
    "# Check column lengths between frames\n",
    "\n",
    "for frame in social:\n",
    "    print(len(frame.columns))\n",
    "\n",
    "for frame in economic:\n",
    "    print(len(frame.columns))\n",
    "    \n",
    "for frame in housing:\n",
    "    print(len(frame.columns))"
   ]
  },
  {
   "cell_type": "code",
   "execution_count": 39,
   "metadata": {},
   "outputs": [],
   "source": [
    "# Realign housing columns by dropping columns not represented in all frames\n",
    "\n",
    "housing[2].drop(['Estimate; YEAR STRUCTURE BUILT - Total housing units - Built 2014 or later'], axis=1,inplace=True)\n",
    "housing[2].drop(['Percent; YEAR STRUCTURE BUILT - Total housing units - Built 2014 or later'], axis=1,inplace=True)\n",
    "\n",
    "housing[2].drop(['Estimate; SELECTED MONTHLY OWNER COSTS (SMOC) - Housing units without a mortgage - $800 to $999'],\n",
    "                axis=1,inplace=True)\n",
    "housing[2].drop(['Percent; SELECTED MONTHLY OWNER COSTS (SMOC) - Housing units without a mortgage - $800 to $999'],\n",
    "                axis=1,inplace=True)\n",
    "\n",
    "housing[3].drop(['Estimate; SELECTED MONTHLY OWNER COSTS (SMOC) - Housing units without a mortgage - $800 to $999'],\n",
    "                axis=1,inplace=True)\n",
    "housing[3].drop(['Percent; SELECTED MONTHLY OWNER COSTS (SMOC) - Housing units without a mortgage - $800 to $999'],\n",
    "                axis=1,inplace=True)\n",
    "\n",
    "housing[3].drop(['Estimate; YEAR STRUCTURE BUILT - Total housing units - Built 2014 or later'], axis=1,inplace=True)\n",
    "housing[3].drop(['Percent; YEAR STRUCTURE BUILT - Total housing units - Built 2014 or later'], axis=1,inplace=True)\n"
   ]
  },
  {
   "cell_type": "code",
   "execution_count": 40,
   "metadata": {},
   "outputs": [],
   "source": [
    "# Realign columns in social frames by dropping columns\n",
    "\n",
    "social[1].drop(['Estimate; COMPUTERS AND INTERNET USE - Total Households',\n",
    "                'Estimate; COMPUTERS AND INTERNET USE - Total Households - With a computer',\n",
    "                'Estimate; COMPUTERS AND INTERNET USE - Total Households - With a broadband Internet subscription'],\n",
    "                axis=1, inplace=True)\n",
    "social[1].drop(['Percent; COMPUTERS AND INTERNET USE - Total Households',\n",
    "                'Percent; COMPUTERS AND INTERNET USE - Total Households - With a computer',\n",
    "                'Percent; COMPUTERS AND INTERNET USE - Total Households - With a broadband Internet subscription'],\n",
    "                axis=1, inplace=True)\n",
    "\n",
    "social[2].drop(['Estimate; COMPUTERS AND INTERNET USE - Total households',\n",
    "                'Estimate; COMPUTERS AND INTERNET USE - Total households - With a computer',\n",
    "                'Estimate; COMPUTERS AND INTERNET USE - Total households - With a broadband Internet subscription'],\n",
    "                axis = 1, inplace=True)\n",
    "social[2].drop(['Percent; COMPUTERS AND INTERNET USE - Total households',\n",
    "                'Percent; COMPUTERS AND INTERNET USE - Total households - With a computer',\n",
    "                'Percent; COMPUTERS AND INTERNET USE - Total households - With a broadband Internet subscription'],\n",
    "                axis = 1, inplace=True)\n",
    "\n",
    "social[3].drop(['Estimate; COMPUTERS AND INTERNET USE - Total households',\n",
    "                'Estimate; COMPUTERS AND INTERNET USE - Total households - With a computer',\n",
    "                'Estimate; COMPUTERS AND INTERNET USE - Total households - With a broadband Internet subscription'],\n",
    "                axis=1, inplace=True)\n",
    "social[3].drop(['Percent; COMPUTERS AND INTERNET USE - Total households',\n",
    "                'Percent; COMPUTERS AND INTERNET USE - Total households - With a computer',\n",
    "                'Percent; COMPUTERS AND INTERNET USE - Total households - With a broadband Internet subscription'],\n",
    "                axis=1, inplace=True)"
   ]
  },
  {
   "cell_type": "markdown",
   "metadata": {},
   "source": [
    "Note: Determining which columns to drop was a laborious task involving printing every column name for every frame and lining them up next to each other to identify exactly where the columns had shifted. I've eliminated this code for visual clarity. "
   ]
  },
  {
   "cell_type": "code",
   "execution_count": 41,
   "metadata": {},
   "outputs": [
    {
     "name": "stdout",
     "output_type": "stream",
     "text": [
      "304\n",
      "304\n",
      "304\n",
      "304\n",
      "280\n",
      "280\n",
      "280\n",
      "280\n",
      "288\n",
      "288\n",
      "288\n",
      "288\n"
     ]
    }
   ],
   "source": [
    "# Ensure equal number of columns in each frame\n",
    "\n",
    "for frame in social:\n",
    "    print(len(frame.columns))\n",
    "\n",
    "for frame in economic:\n",
    "    print(len(frame.columns))\n",
    "    \n",
    "for frame in housing:\n",
    "    print(len(frame.columns))"
   ]
  },
  {
   "cell_type": "code",
   "execution_count": 42,
   "metadata": {},
   "outputs": [],
   "source": [
    "# Set all column names to the first frame's column names\n",
    "\n",
    "social[1].columns = social[0].columns\n",
    "social[2].columns = social[0].columns\n",
    "social[3].columns = social[0].columns"
   ]
  },
  {
   "cell_type": "code",
   "execution_count": 43,
   "metadata": {},
   "outputs": [],
   "source": [
    "economic[1].columns = economic[0].columns\n",
    "economic[2].columns = economic[0].columns\n",
    "economic[3].columns = economic[0].columns"
   ]
  },
  {
   "cell_type": "code",
   "execution_count": 44,
   "metadata": {},
   "outputs": [],
   "source": [
    "housing[1].columns = housing[0].columns\n",
    "housing[2].columns = housing[0].columns\n",
    "housing[3].columns = housing[0].columns"
   ]
  },
  {
   "cell_type": "code",
   "execution_count": 61,
   "metadata": {},
   "outputs": [
    {
     "name": "stdout",
     "output_type": "stream",
     "text": [
      "436\n",
      "436\n",
      "436\n",
      "436\n",
      "436\n",
      "436\n",
      "436\n",
      "436\n",
      "436\n",
      "436\n",
      "436\n",
      "436\n"
     ]
    }
   ],
   "source": [
    "for df in social:\n",
    "    print(len(df))\n",
    "    \n",
    "for df in economic:\n",
    "    print(len(df))\n",
    "    \n",
    "for df in housing:\n",
    "    print(len(df))"
   ]
  },
  {
   "cell_type": "code",
   "execution_count": 62,
   "metadata": {},
   "outputs": [],
   "source": [
    "# Drop Washington D.C. from the frames\n",
    "\n",
    "for frame in social:\n",
    "    frame.reset_index(inplace=True)\n",
    "    frame.drop(87, inplace=True)\n",
    "\n",
    "for frame in economic:\n",
    "    frame.reset_index(inplace=True)\n",
    "    frame.drop(87, inplace=True)\n",
    "    \n",
    "for frame in housing:\n",
    "    frame.reset_index(inplace=True)\n",
    "    frame.drop(87, inplace=True)"
   ]
  },
  {
   "cell_type": "code",
   "execution_count": 63,
   "metadata": {},
   "outputs": [],
   "source": [
    "# Read in congressional district names and states\n",
    "\n",
    "c = Census(\"72986bd6983e4c4882706fb7ebadf907915d4f31\")\n",
    "\n",
    "names = c.acs1dp.state_district('NAME','*','*',year = 2016)"
   ]
  },
  {
   "cell_type": "code",
   "execution_count": 64,
   "metadata": {},
   "outputs": [
    {
     "data": {
      "text/plain": [
       "{'NAME': 'Delegate District (at Large) (115th Congress), District of Columbia',\n",
       " 'state': '11',\n",
       " 'congressional district': '98'}"
      ]
     },
     "execution_count": 64,
     "metadata": {},
     "output_type": "execute_result"
    }
   ],
   "source": [
    "names.pop(87)"
   ]
  },
  {
   "cell_type": "code",
   "execution_count": 65,
   "metadata": {},
   "outputs": [
    {
     "data": {
      "text/plain": [
       "{'NAME': 'Resident Commissioner District (at Large) (115th Congress), Puerto Rico',\n",
       " 'state': '72',\n",
       " 'congressional district': '98'}"
      ]
     },
     "execution_count": 65,
     "metadata": {},
     "output_type": "execute_result"
    }
   ],
   "source": [
    "names.pop(435)"
   ]
  },
  {
   "cell_type": "code",
   "execution_count": 66,
   "metadata": {},
   "outputs": [
    {
     "data": {
      "text/plain": [
       "435"
      ]
     },
     "execution_count": 66,
     "metadata": {},
     "output_type": "execute_result"
    }
   ],
   "source": [
    "len(names)"
   ]
  },
  {
   "cell_type": "code",
   "execution_count": 67,
   "metadata": {},
   "outputs": [],
   "source": [
    "# Create state and district columns\n",
    "\n",
    "for frame in social:\n",
    "    frame['District'] = 0\n",
    "    frame['State'] = 0\n",
    "\n",
    "for frame in economic:\n",
    "    frame['District'] = 0\n",
    "    frame['State'] = 0\n",
    "    \n",
    "for frame in housing:\n",
    "    frame['District'] = 0\n",
    "    frame['State'] = 0"
   ]
  },
  {
   "cell_type": "code",
   "execution_count": 73,
   "metadata": {},
   "outputs": [],
   "source": [
    "for frame in social:\n",
    "    frame.drop(['level_0', 'index'], axis=1, inplace=True)\n",
    "    frame.reset_index(inplace=True)\n",
    "    \n",
    "for frame in economic:\n",
    "    frame.drop(['level_0', 'index'], axis=1, inplace=True)\n",
    "    frame.reset_index(inplace=True)\n",
    "    \n",
    "for frame in housing:\n",
    "    frame.drop(['level_0', 'index'], axis=1, inplace=True)\n",
    "    frame.reset_index(inplace=True)"
   ]
  },
  {
   "cell_type": "code",
   "execution_count": 74,
   "metadata": {},
   "outputs": [],
   "source": [
    "# Create lists of states and districts\n",
    "\n",
    "states = []\n",
    "districts = []\n",
    "for district in names:\n",
    "    states.append(district['state'])\n",
    "    districts.append(district['congressional district'])"
   ]
  },
  {
   "cell_type": "code",
   "execution_count": 75,
   "metadata": {},
   "outputs": [],
   "source": [
    "# Align lists of states and districts in each frame\n",
    "\n",
    "for df in social:\n",
    "    df['District'] = districts\n",
    "    df['State'] = states\n",
    "    \n",
    "for df in economic:\n",
    "    df['District'] = districts\n",
    "    df['State'] = states\n",
    "\n",
    "for df in housing:\n",
    "    df['District'] = districts\n",
    "    df['State'] = states"
   ]
  },
  {
   "cell_type": "code",
   "execution_count": 76,
   "metadata": {},
   "outputs": [],
   "source": [
    "# Set district, state, and year columns to be numeric\n",
    "\n",
    "for df in social:\n",
    "    df['District'] = pd.to_numeric(df['District'])\n",
    "    df['State'] = pd.to_numeric(df['State'])\n",
    "    df['Year'] = pd.to_numeric(df['Year'])\n",
    "    \n",
    "for df in economic:\n",
    "    df['District'] = pd.to_numeric(df['District'])\n",
    "    df['State'] = pd.to_numeric(df['State'])\n",
    "    df['Year'] = pd.to_numeric(df['Year'])\n",
    "\n",
    "for df in housing:\n",
    "    df['District'] = pd.to_numeric(df['District'])\n",
    "    df['State'] = pd.to_numeric(df['State'])\n",
    "    df['Year'] = pd.to_numeric(df['Year'])"
   ]
  },
  {
   "cell_type": "code",
   "execution_count": 84,
   "metadata": {},
   "outputs": [
    {
     "name": "stdout",
     "output_type": "stream",
     "text": [
      "306\n",
      "306\n",
      "306\n",
      "306\n",
      "282\n",
      "282\n",
      "282\n",
      "282\n",
      "290\n",
      "290\n",
      "290\n",
      "290\n"
     ]
    }
   ],
   "source": [
    "# Ensure all frames have same number of columns\n",
    "\n",
    "for df in social:\n",
    "    print(len(df.columns))\n",
    "\n",
    "for df in economic:\n",
    "    print(len(df.columns))\n",
    "\n",
    "for df in housing:\n",
    "    print(len(df.columns))"
   ]
  },
  {
   "cell_type": "code",
   "execution_count": 94,
   "metadata": {},
   "outputs": [
    {
     "name": "stdout",
     "output_type": "stream",
     "text": [
      "435\n",
      "435\n",
      "435\n",
      "435\n",
      "435\n",
      "435\n",
      "435\n",
      "435\n",
      "435\n",
      "435\n",
      "435\n",
      "435\n"
     ]
    }
   ],
   "source": [
    "# Ensure all frames are 435 rows\n",
    "\n",
    "for df in social:\n",
    "    print(len(df))\n",
    "\n",
    "for df in economic:\n",
    "    print(len(df))\n",
    "\n",
    "for df in housing:\n",
    "    print(len(df))"
   ]
  },
  {
   "cell_type": "code",
   "execution_count": 85,
   "metadata": {},
   "outputs": [],
   "source": [
    "# Append the frames together\n",
    "\n",
    "social_data = social[0].append(social[1])\n",
    "social_data = social_data.append(social[2])\n",
    "social_data = social_data.append(social[3])"
   ]
  },
  {
   "cell_type": "code",
   "execution_count": 86,
   "metadata": {},
   "outputs": [],
   "source": [
    "economic_data = economic[0].append(economic[1])\n",
    "economic_data = economic_data.append(economic[2])\n",
    "economic_data = economic_data.append(economic[3])"
   ]
  },
  {
   "cell_type": "code",
   "execution_count": 87,
   "metadata": {},
   "outputs": [],
   "source": [
    "housing_data = housing[0].append(housing[1])\n",
    "housing_data = housing_data.append(housing[2])\n",
    "housing_data = housing_data.append(housing[3])"
   ]
  },
  {
   "cell_type": "code",
   "execution_count": 95,
   "metadata": {},
   "outputs": [],
   "source": [
    "# Create the full ACS1 data set\n",
    "\n",
    "housing_social = pd.merge(social_data, housing_data, how='outer', on=['State','District','Year'])\n",
    "acs1_data = housing_social = pd.merge(housing_social, economic_data, how='outer', on = ['State','District','Year'])"
   ]
  },
  {
   "cell_type": "code",
   "execution_count": 101,
   "metadata": {},
   "outputs": [
    {
     "name": "stdout",
     "output_type": "stream",
     "text": [
      "1740\n",
      "1740\n",
      "1740\n",
      "1740\n"
     ]
    }
   ],
   "source": [
    "print(len(social_data))\n",
    "print(len(economic_data))\n",
    "print(len(housing_data))\n",
    "print(len(acs1_data))"
   ]
  },
  {
   "cell_type": "code",
   "execution_count": null,
   "metadata": {},
   "outputs": [],
   "source": [
    "social_data.to_csv('social_data.csv')\n",
    "economic_data.to_csv('economic_data.csv')\n",
    "housing_data.to_csv('housing_data.csv')\n",
    "acs1_data.to_csv('acs1_data.csv')"
   ]
  },
  {
   "cell_type": "code",
   "execution_count": null,
   "metadata": {},
   "outputs": [],
   "source": []
  }
 ],
 "metadata": {
  "kernelspec": {
   "display_name": "Python 3",
   "language": "python",
   "name": "python3"
  },
  "language_info": {
   "codemirror_mode": {
    "name": "ipython",
    "version": 3
   },
   "file_extension": ".py",
   "mimetype": "text/x-python",
   "name": "python",
   "nbconvert_exporter": "python",
   "pygments_lexer": "ipython3",
   "version": "3.7.2"
  },
  "toc": {
   "base_numbering": 1,
   "nav_menu": {},
   "number_sections": true,
   "sideBar": true,
   "skip_h1_title": false,
   "title_cell": "Table of Contents",
   "title_sidebar": "Contents",
   "toc_cell": false,
   "toc_position": {},
   "toc_section_display": true,
   "toc_window_display": false
  },
  "varInspector": {
   "cols": {
    "lenName": 16,
    "lenType": 16,
    "lenVar": 40
   },
   "kernels_config": {
    "python": {
     "delete_cmd_postfix": "",
     "delete_cmd_prefix": "del ",
     "library": "var_list.py",
     "varRefreshCmd": "print(var_dic_list())"
    },
    "r": {
     "delete_cmd_postfix": ") ",
     "delete_cmd_prefix": "rm(",
     "library": "var_list.r",
     "varRefreshCmd": "cat(var_dic_list()) "
    }
   },
   "types_to_exclude": [
    "module",
    "function",
    "builtin_function_or_method",
    "instance",
    "_Feature"
   ],
   "window_display": false
  }
 },
 "nbformat": 4,
 "nbformat_minor": 2
}
